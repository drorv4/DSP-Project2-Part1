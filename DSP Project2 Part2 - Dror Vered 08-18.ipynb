{
 "cells": [
  {
   "cell_type": "markdown",
   "metadata": {},
   "source": [
    "# Project 2 - Shelter Animal Outcomes\n",
    "\n",
    "\n",
    "## Submitted by: Dror Vered\n",
    "\n",
    "### August 2018\n",
    "\n",
    "The goal of this project is to predict the outcome of the dogs and the cats as they leave the Austin Animal Center.\n",
    "These outcomes include: Adoption, Died, Euthanasia, Return to owner, and Transfer.\n",
    "\n",
    "### Part 2:\n",
    "Run machine learning models to predict the required outcome\n",
    "\n",
    "-----------------------------------------------------------------------------------------------------------------------------"
   ]
  },
  {
   "cell_type": "markdown",
   "metadata": {},
   "source": [
    "### My Work Plan:\n",
    "\n",
    "- Apply data-related and model-related pre-processing steps as necessary (several rounds)\n",
    "- Apply several relevant models\n",
    "- Present final (best) results"
   ]
  },
  {
   "cell_type": "code",
   "execution_count": 759,
   "metadata": {},
   "outputs": [],
   "source": [
    "import numpy as np\n",
    "# import matplotlib.pyplot as plt\n",
    "import pandas as pd\n",
    "from sklearn import neighbors, linear_model\n",
    "from sklearn.model_selection import train_test_split as split\n",
    "from sklearn.model_selection import cross_val_score, GridSearchCV\n",
    "from sklearn.metrics import confusion_matrix, classification_report, accuracy_score\n",
    "from sklearn.tree import DecisionTreeClassifier, export_graphviz\n",
    "from sklearn.linear_model import LogisticRegression\n",
    "from sklearn.neighbors import KNeighborsClassifier\n",
    "from sklearn.svm import LinearSVC, SVC\n",
    "from sklearn.preprocessing import StandardScaler, MaxAbsScaler, PolynomialFeatures\n",
    "from sklearn.decomposition import PCA\n",
    "from sklearn.feature_selection import VarianceThreshold, SelectKBest\n",
    "from sklearn.pipeline import Pipeline\n",
    "from sklearn.ensemble import VotingClassifier, BaggingClassifier, \\\n",
    "                             AdaBoostClassifier, GradientBoostingClassifier, RandomForestClassifier\n",
    "import matplotlib.pyplot as plt\n",
    "import warnings\n",
    "\n",
    "warnings.filterwarnings('ignore')\n",
    "%matplotlib inline"
   ]
  },
  {
   "cell_type": "code",
   "execution_count": 2,
   "metadata": {},
   "outputs": [],
   "source": [
    "# loading the outcomes DF, as saved in Part1 of the project\n",
    "import pickle"
   ]
  },
  {
   "cell_type": "code",
   "execution_count": 3,
   "metadata": {},
   "outputs": [],
   "source": [
    "with open('part1outcomes', 'rb') as f:\n",
    "    outcomes = pickle.load(f)"
   ]
  },
  {
   "cell_type": "code",
   "execution_count": 319,
   "metadata": {},
   "outputs": [],
   "source": [
    "# outcomes.head()"
   ]
  },
  {
   "cell_type": "code",
   "execution_count": 35,
   "metadata": {},
   "outputs": [],
   "source": [
    "# outcomes.info()"
   ]
  },
  {
   "cell_type": "markdown",
   "metadata": {},
   "source": [
    "## 1. Pre-processing steps"
   ]
  },
  {
   "cell_type": "markdown",
   "metadata": {},
   "source": [
    "### 1.1. Feature Selection (round I)"
   ]
  },
  {
   "cell_type": "markdown",
   "metadata": {},
   "source": [
    "As seen in Part 1 of the project, some of the features in the given data set are not relevant for the predictive models. \n",
    "These features are: \n",
    "- **Name:** The pet's name is not relevant. However, the 'Named' feature that I've added to the df will be in use\n",
    "- **DateTime:** As this is the *outcome* date, this feature cannot help us with predicting the outcome type\n",
    "- **OutcomeSubtype:** In part 1 of the project I showed some interesting findings regarding this feature, however it is not relevant for the predictive models\n",
    "- **SexuponOutcome:** Instead of this feature, I've created two separate features (Sex and NeuterStatus) which will be in use here\n",
    "- **AgeuponOutcome:** Instead of this feature, I've created the LifeStage feature, which I'll use here\n",
    "- **Breed:** Instead of this feature, I've created several other features which I'll use here (BreedPurity, MainBreed, DogFamily) \n",
    "- **Color:** Instead of this feature, I've created two separate features (ColorCoat and ColorGroup) which will be in use here\n",
    "\n",
    "In addition, some of the features that I've added in part 1, while investigating the data, are not relevant for this part of the project. These feature are: **DayOfWeek**, **Quarter** and **Holiday**.\n",
    "\n",
    "**The features mentioned above will be dropped from the data set that will serve the predictive models.**\n",
    "\n",
    "Note: Although I couldn't identify specific insights regarding 'lowBarking' and 'toleratesCold' features,  I choose not to drop them for now.\n"
   ]
  },
  {
   "cell_type": "code",
   "execution_count": 737,
   "metadata": {},
   "outputs": [],
   "source": [
    "outcomes2 = outcomes.drop(columns=\n",
    "       ['Name','DateTime','OutcomeSubtype','SexuponOutcome','AgeuponOutcome','Breed','Color','DayOfWeek','Quarter','Holiday'])"
   ]
  },
  {
   "cell_type": "code",
   "execution_count": 392,
   "metadata": {},
   "outputs": [],
   "source": [
    "# outcomes2.shape"
   ]
  },
  {
   "cell_type": "code",
   "execution_count": 393,
   "metadata": {},
   "outputs": [],
   "source": [
    "# outcomes2.info()"
   ]
  },
  {
   "cell_type": "markdown",
   "metadata": {},
   "source": [
    "### 1.2. Preparing the data"
   ]
  },
  {
   "cell_type": "code",
   "execution_count": 738,
   "metadata": {},
   "outputs": [],
   "source": [
    "X = outcomes2.drop('OutcomeType', axis=1)\n",
    "y = outcomes2.OutcomeType"
   ]
  },
  {
   "cell_type": "code",
   "execution_count": 739,
   "metadata": {},
   "outputs": [],
   "source": [
    "X = pd.get_dummies(X)"
   ]
  },
  {
   "cell_type": "code",
   "execution_count": 415,
   "metadata": {},
   "outputs": [],
   "source": [
    "# X.head()"
   ]
  },
  {
   "cell_type": "markdown",
   "metadata": {},
   "source": [
    "The given *test.csv* file is not useful, as it doesn't contains the OutcomeType feature. Therefore I will split the outcome DF to train/test."
   ]
  },
  {
   "cell_type": "code",
   "execution_count": 740,
   "metadata": {},
   "outputs": [],
   "source": [
    "X_train, X_test, y_train, y_test = split(X, y, train_size=0.7, random_state=4014)"
   ]
  },
  {
   "cell_type": "markdown",
   "metadata": {},
   "source": [
    "## 2. Naive classification"
   ]
  },
  {
   "cell_type": "markdown",
   "metadata": {},
   "source": [
    "## 2.1. Decision Tree model (as a start)"
   ]
  },
  {
   "cell_type": "code",
   "execution_count": 745,
   "metadata": {},
   "outputs": [
    {
     "data": {
      "text/plain": [
       "DecisionTreeClassifier(class_weight=None, criterion='gini', max_depth=20,\n",
       "            max_features=None, max_leaf_nodes=None,\n",
       "            min_impurity_decrease=0.0, min_impurity_split=None,\n",
       "            min_samples_leaf=100, min_samples_split=100,\n",
       "            min_weight_fraction_leaf=0.0, presort=False, random_state=None,\n",
       "            splitter='best')"
      ]
     },
     "execution_count": 745,
     "metadata": {},
     "output_type": "execute_result"
    }
   ],
   "source": [
    "DT_clf = DecisionTreeClassifier(max_depth=20, min_samples_split=100, min_samples_leaf=100)\n",
    "DT_clf.fit(X_train, y_train)"
   ]
  },
  {
   "cell_type": "code",
   "execution_count": 746,
   "metadata": {},
   "outputs": [
    {
     "name": "stdout",
     "output_type": "stream",
     "text": [
      "Train: 0.6526180670695834\n",
      "Test:  0.6396306463688545\n"
     ]
    }
   ],
   "source": [
    "print('Train:', DT_clf.score(X_train, y_train))\n",
    "print('Test: ', DT_clf.score(X_test, y_test))"
   ]
  },
  {
   "cell_type": "code",
   "execution_count": 400,
   "metadata": {},
   "outputs": [],
   "source": [
    "# Exporting the Tree\n",
    "export_graphviz(decision_tree=DT_clf, out_file='outcomes_tree.dot', feature_names=X.columns, class_names=DT_clf.classes_,\n",
    "                leaves_parallel=True, filled=True, rotate=False, rounded=True)"
   ]
  },
  {
   "cell_type": "markdown",
   "metadata": {},
   "source": [
    "### 2.1.1. Adding data scaling"
   ]
  },
  {
   "cell_type": "code",
   "execution_count": 401,
   "metadata": {},
   "outputs": [
    {
     "name": "stdout",
     "output_type": "stream",
     "text": [
      "0.6526180670695834\n",
      "0.6396306463688545\n"
     ]
    }
   ],
   "source": [
    "norm_scaler = StandardScaler()\n",
    "X_train_scaled = norm_scaler.fit_transform(X_train)\n",
    "\n",
    "DT_clf.fit(X_train_scaled, y_train)\n",
    "print(DT_clf.score(X_train_scaled, y_train))\n",
    "\n",
    "X_test_scaled = norm_scaler.transform(X_test)\n",
    "print(DT_clf.score(X_test_scaled, y_test))"
   ]
  },
  {
   "cell_type": "markdown",
   "metadata": {},
   "source": [
    "### 2.1.2. With PCA"
   ]
  },
  {
   "cell_type": "code",
   "execution_count": 402,
   "metadata": {},
   "outputs": [
    {
     "name": "stdout",
     "output_type": "stream",
     "text": [
      "0.6350216612290742\n",
      "0.6071874220114799\n"
     ]
    }
   ],
   "source": [
    "pca_transformer = PCA(20)\n",
    "X_train_scaled_pca = pca_transformer.fit_transform(X_train_scaled)\n",
    "                                                   \n",
    "DT_clf.fit(X_train_scaled_pca, y_train)\n",
    "print(DT_clf.score(X_train_scaled_pca, y_train))\n",
    "                                                   \n",
    "X_test_scaled_pca = pca_transformer.transform(X_test_scaled)\n",
    "print(DT_clf.score(X_test_scaled_pca, y_test))"
   ]
  },
  {
   "cell_type": "markdown",
   "metadata": {},
   "source": [
    "## 2.2. Separating Dogs/Cats (investigation)"
   ]
  },
  {
   "cell_type": "markdown",
   "metadata": {},
   "source": [
    "To check if the features that I've created and added in Part1 of the project are useful (at all), I will now try to apply them separately on Dogs and Cats. If the results are significantly better than above, then I'll try to improve the complete data set using more pre-processing steps."
   ]
  },
  {
   "cell_type": "markdown",
   "metadata": {},
   "source": [
    "**Dogs**"
   ]
  },
  {
   "cell_type": "code",
   "execution_count": 403,
   "metadata": {},
   "outputs": [],
   "source": [
    "dog_columns = [col for col in list(outcomes2.columns) if 'Dog' in col]\n",
    "\n",
    "outcomes2_Dogs = outcomes2[outcomes2.AnimalType == 'Dog']\n",
    "outcomes2_Dogs.drop(columns='AnimalType', inplace=True)    # there's no use of the AnimalType feature (all pets are dogs)"
   ]
  },
  {
   "cell_type": "code",
   "execution_count": 404,
   "metadata": {},
   "outputs": [
    {
     "name": "stdout",
     "output_type": "stream",
     "text": [
      "Train: 0.5834173156207054\n",
      "Test:  0.5753366103868348\n"
     ]
    }
   ],
   "source": [
    "X_Dogs = outcomes2_Dogs.drop('OutcomeType', axis=1)\n",
    "y_Dogs = outcomes2_Dogs.OutcomeType\n",
    "\n",
    "X_Dogs = pd.get_dummies(X_Dogs)\n",
    "\n",
    "X_Dogs_train, X_Dogs_test, y_Dogs_train, y_Dogs_test = split(X_Dogs, y_Dogs, train_size=0.7, random_state=4014)\n",
    "\n",
    "DT_clf = DecisionTreeClassifier(max_depth=15, min_samples_split=70, min_samples_leaf=70)\n",
    "DT_clf.fit(X_Dogs_train, y_Dogs_train)\n",
    "\n",
    "print('Train:', DT_clf.score(X_Dogs_train, y_Dogs_train))\n",
    "print('Test: ', DT_clf.score(X_Dogs_test, y_Dogs_test))"
   ]
  },
  {
   "cell_type": "markdown",
   "metadata": {},
   "source": [
    "Since the external features I've added in Part1 include lots of missing data (marked as 999), I will now try to \"play\" with it in several alternative ways:\n",
    "- Filter out the 999 samples\n",
    "- Fill missing data with median value of the relevant column's values\n",
    "- Categorize the external features\n",
    "- Drop the external features\n",
    "\n",
    "In addition, I will check the Score when dropping the MainBreed feature, which is very varied (relying on the DogFamily, BreedPurity and other Dog features)."
   ]
  },
  {
   "cell_type": "code",
   "execution_count": 405,
   "metadata": {},
   "outputs": [],
   "source": [
    "# outcomes2_Dogs.DogSize.value_counts()"
   ]
  },
  {
   "cell_type": "code",
   "execution_count": 406,
   "metadata": {},
   "outputs": [
    {
     "name": "stdout",
     "output_type": "stream",
     "text": [
      "Train: 0.5988733042078639\n",
      "Test:  0.5733440600697238\n"
     ]
    }
   ],
   "source": [
    "# Filter out the 999 samples\n",
    "\n",
    "outcomes2_Dogs = outcomes2[(outcomes2.AnimalType == 'Dog') & (outcomes2.DogSize != 999)]\n",
    "outcomes2_Dogs.drop(columns='AnimalType', inplace=True)\n",
    "\n",
    "X_Dogs = outcomes2_Dogs.drop('OutcomeType', axis=1)\n",
    "y_Dogs = outcomes2_Dogs.OutcomeType\n",
    "\n",
    "X_Dogs = pd.get_dummies(X_Dogs)\n",
    "\n",
    "X_Dogs_train, X_Dogs_test, y_Dogs_train, y_Dogs_test = split(X_Dogs, y_Dogs, train_size=0.7, random_state=4014)\n",
    "\n",
    "DT_clf = DecisionTreeClassifier(max_depth=15, min_samples_split=70, min_samples_leaf=70)\n",
    "DT_clf.fit(X_Dogs_train, y_Dogs_train)\n",
    "\n",
    "print('Train:', DT_clf.score(X_Dogs_train, y_Dogs_train))\n",
    "print('Test: ', DT_clf.score(X_Dogs_test, y_Dogs_test))"
   ]
  },
  {
   "cell_type": "code",
   "execution_count": 407,
   "metadata": {},
   "outputs": [
    {
     "name": "stdout",
     "output_type": "stream",
     "text": [
      "Train: 0.5830508474576271\n",
      "Test:  0.5736268433425946\n"
     ]
    }
   ],
   "source": [
    "# Fill missing data with median value of the relevant column's values\n",
    "\n",
    "outcomes2_Dogs = outcomes2[outcomes2.AnimalType == 'Dog']\n",
    "outcomes2_Dogs.drop(columns='AnimalType', inplace=True)\n",
    "\n",
    "for col in dog_columns:   \n",
    "    if outcomes2_Dogs[col].dtype == 'int32':\n",
    "        outcomes2_Dogs[col] = outcomes2_Dogs[col].where(outcomes2_Dogs[col] < 999)   # convert 999 to NaN\n",
    "        outcomes2_Dogs[col].fillna(outcomes2_Dogs[col].median(), inplace=True)       # set median value where NaN\n",
    "\n",
    "X_Dogs = outcomes2_Dogs.drop('OutcomeType', axis=1)\n",
    "y_Dogs = outcomes2_Dogs.OutcomeType\n",
    "\n",
    "X_Dogs = pd.get_dummies(X_Dogs)\n",
    "\n",
    "X_Dogs_train, X_Dogs_test, y_Dogs_train, y_Dogs_test = split(X_Dogs, y_Dogs, train_size=0.7, random_state=4014)\n",
    "\n",
    "DT_clf = DecisionTreeClassifier(max_depth=15, min_samples_split=70, min_samples_leaf=70)\n",
    "DT_clf.fit(X_Dogs_train, y_Dogs_train)\n",
    "\n",
    "print('Train:', DT_clf.score(X_Dogs_train, y_Dogs_train))\n",
    "print('Test: ', DT_clf.score(X_Dogs_test, y_Dogs_test))"
   ]
  },
  {
   "cell_type": "code",
   "execution_count": 408,
   "metadata": {},
   "outputs": [
    {
     "name": "stdout",
     "output_type": "stream",
     "text": [
      "Train: 0.5759047182775996\n",
      "Test:  0.5697798674930541\n"
     ]
    }
   ],
   "source": [
    "# Categorize the Dogs features\n",
    "\n",
    "outcomes2_Dogs = outcomes2[outcomes2.AnimalType == 'Dog']\n",
    "outcomes2_Dogs.drop(columns='AnimalType', inplace=True)\n",
    "\n",
    "X_Dogs = outcomes2_Dogs.drop('OutcomeType', axis=1)\n",
    "y_Dogs = outcomes2_Dogs.OutcomeType\n",
    "\n",
    "cols = [col for col in list(X_Dogs.columns) if col != 'Named']\n",
    "\n",
    "X_Dogs = pd.get_dummies(X_Dogs, columns=cols)\n",
    "\n",
    "X_Dogs_train, X_Dogs_test, y_Dogs_train, y_Dogs_test = split(X_Dogs, y_Dogs, train_size=0.7, random_state=4014)\n",
    "\n",
    "DT_clf = DecisionTreeClassifier(max_depth=10, min_samples_split=100, min_samples_leaf=100)\n",
    "DT_clf.fit(X_Dogs_train, y_Dogs_train)\n",
    "\n",
    "print('Train:', DT_clf.score(X_Dogs_train, y_Dogs_train))\n",
    "print('Test: ', DT_clf.score(X_Dogs_test, y_Dogs_test))"
   ]
  },
  {
   "cell_type": "code",
   "execution_count": 409,
   "metadata": {},
   "outputs": [
    {
     "name": "stdout",
     "output_type": "stream",
     "text": [
      "Train: 0.574072377462208\n",
      "Test:  0.5680701004488139\n"
     ]
    }
   ],
   "source": [
    "# Drop all external Dogs features\n",
    "\n",
    "dog_columns = [col for col in list(outcomes2.columns) if ('Dog' in col and col != 'DogFamily')]\n",
    "\n",
    "outcomes2_Dogs = outcomes2[outcomes2.AnimalType == 'Dog']\n",
    "outcomes2_Dogs.drop(columns='AnimalType', inplace=True)\n",
    "\n",
    "outcomes2_Dogs.drop(columns=dog_columns, inplace=True)\n",
    "\n",
    "X_Dogs = outcomes2_Dogs.drop('OutcomeType', axis=1)\n",
    "y_Dogs = outcomes2_Dogs.OutcomeType\n",
    "\n",
    "X_Dogs = pd.get_dummies(X_Dogs)\n",
    "\n",
    "X_Dogs_train, X_Dogs_test, y_Dogs_train, y_Dogs_test = split(X_Dogs, y_Dogs, train_size=0.7, random_state=4014)\n",
    "\n",
    "DT_clf = DecisionTreeClassifier(max_depth=10, min_samples_split=100, min_samples_leaf=100)\n",
    "DT_clf.fit(X_Dogs_train, y_Dogs_train)\n",
    "\n",
    "print('Train:', DT_clf.score(X_Dogs_train, y_Dogs_train))\n",
    "print('Test: ', DT_clf.score(X_Dogs_test, y_Dogs_test))"
   ]
  },
  {
   "cell_type": "code",
   "execution_count": 410,
   "metadata": {},
   "outputs": [
    {
     "name": "stdout",
     "output_type": "stream",
     "text": [
      "Train: 0.5770041227668347\n",
      "Test:  0.5734131224620646\n"
     ]
    }
   ],
   "source": [
    "# Drop most of external Dogs features (all but DogSize)\n",
    "\n",
    "dog_columns = [col for col in list(outcomes2.columns) if ('Dog' in col and col not in ['DogFamily','DogSize'])]\n",
    "\n",
    "outcomes2_Dogs = outcomes2[outcomes2.AnimalType == 'Dog']\n",
    "outcomes2_Dogs.drop(columns='AnimalType', inplace=True)\n",
    "\n",
    "outcomes2_Dogs.drop(columns=dog_columns, inplace=True)\n",
    "\n",
    "X_Dogs = outcomes2_Dogs.drop('OutcomeType', axis=1)\n",
    "y_Dogs = outcomes2_Dogs.OutcomeType\n",
    "\n",
    "X_Dogs = pd.get_dummies(X_Dogs)\n",
    "\n",
    "X_Dogs_train, X_Dogs_test, y_Dogs_train, y_Dogs_test = split(X_Dogs, y_Dogs, train_size=0.7, random_state=4014)\n",
    "\n",
    "DT_clf = DecisionTreeClassifier(max_depth=10, min_samples_split=100, min_samples_leaf=100)\n",
    "DT_clf.fit(X_Dogs_train, y_Dogs_train)\n",
    "\n",
    "print('Train:', DT_clf.score(X_Dogs_train, y_Dogs_train))\n",
    "print('Test: ', DT_clf.score(X_Dogs_test, y_Dogs_test))"
   ]
  },
  {
   "cell_type": "code",
   "execution_count": 411,
   "metadata": {},
   "outputs": [
    {
     "name": "stdout",
     "output_type": "stream",
     "text": [
      "Train: 0.5757214841960605\n",
      "Test:  0.5734131224620646\n"
     ]
    }
   ],
   "source": [
    "# Drop the MainBreed feature\n",
    "\n",
    "outcomes2_Dogs = outcomes2[outcomes2.AnimalType == 'Dog']\n",
    "outcomes2_Dogs.drop(columns='AnimalType', inplace=True)\n",
    "\n",
    "X_Dogs = outcomes2_Dogs.drop(columns=['OutcomeType', 'MainBreed'])\n",
    "y_Dogs = outcomes2_Dogs.OutcomeType\n",
    "\n",
    "X_Dogs = pd.get_dummies(X_Dogs)\n",
    "\n",
    "X_Dogs_train, X_Dogs_test, y_Dogs_train, y_Dogs_test = split(X_Dogs, y_Dogs, train_size=0.7, random_state=4014)\n",
    "\n",
    "DT_clf = DecisionTreeClassifier(max_depth=10, min_samples_split=100, min_samples_leaf=100)\n",
    "DT_clf.fit(X_Dogs_train, y_Dogs_train)\n",
    "\n",
    "print('Train:', DT_clf.score(X_Dogs_train, y_Dogs_train))\n",
    "print('Test: ', DT_clf.score(X_Dogs_test, y_Dogs_test))"
   ]
  },
  {
   "cell_type": "markdown",
   "metadata": {},
   "source": [
    "It seems that all the above manipulations give approx the same results, all of them are worse than the \"naive\" model."
   ]
  },
  {
   "cell_type": "markdown",
   "metadata": {},
   "source": [
    "**Cats**"
   ]
  },
  {
   "cell_type": "code",
   "execution_count": 286,
   "metadata": {},
   "outputs": [],
   "source": [
    "outcomes2_Cats = outcomes2[outcomes2.AnimalType == 'Cat']\n",
    "outcomes2_Cats.drop(columns='AnimalType', inplace=True)    # there's no use of the AnimalType feature (all pets are cats)"
   ]
  },
  {
   "cell_type": "markdown",
   "metadata": {},
   "source": [
    "First, I'll drop all the features that are relevant only for dogs  "
   ]
  },
  {
   "cell_type": "code",
   "execution_count": 287,
   "metadata": {},
   "outputs": [],
   "source": [
    "dog_columns = [col for col in list(outcomes2.columns) if 'Dog' in col]\n",
    "\n",
    "outcomes2_Cats.drop(columns=dog_columns, inplace=True)"
   ]
  },
  {
   "cell_type": "code",
   "execution_count": 750,
   "metadata": {},
   "outputs": [
    {
     "name": "stdout",
     "output_type": "stream",
     "text": [
      "Train: 0.7572291479244313\n",
      "Test:  0.7428057553956835\n"
     ]
    }
   ],
   "source": [
    "X_Cats = outcomes2_Cats.drop('OutcomeType', axis=1)\n",
    "\n",
    "y_Cats = outcomes2_Cats.OutcomeType\n",
    "\n",
    "X_Cats = pd.get_dummies(X_Cats)\n",
    "\n",
    "X_Cats_train, X_Cats_test, y_Cats_train, y_Cats_test = split(X_Cats, y_Cats, train_size=0.7, random_state=4014)\n",
    "\n",
    "DT_clf = DecisionTreeClassifier(max_depth=15, min_samples_split=50, min_samples_leaf=50)\n",
    "DT_clf.fit(X_Cats_train, y_Cats_train)\n",
    "\n",
    "print('Train:', DT_clf.score(X_Cats_train, y_Cats_train))\n",
    "print('Test: ', DT_clf.score(X_Cats_test, y_Cats_test))"
   ]
  },
  {
   "cell_type": "markdown",
   "metadata": {},
   "source": [
    "Better result for the Cats portion of the dataset"
   ]
  },
  {
   "cell_type": "markdown",
   "metadata": {},
   "source": [
    "## 3. Feature Selection (round II)"
   ]
  },
  {
   "cell_type": "markdown",
   "metadata": {},
   "source": [
    "Check features' importance"
   ]
  },
  {
   "cell_type": "code",
   "execution_count": 422,
   "metadata": {},
   "outputs": [
    {
     "data": {
      "text/plain": [
       "NeuterStatus_N/S                                0.553925\n",
       "LifeStage_Puppy/Kitten                          0.185372\n",
       "Named                                           0.078532\n",
       "AnimalType_Cat                                  0.042392\n",
       "LifeStage_Junior                                0.039681\n",
       "AnimalType_Dog                                  0.024333\n",
       "LifeStage_Neonatal                              0.013899\n",
       "DogSize                                         0.010680\n",
       "DogLowShedding                                  0.004496\n",
       "LifeStage_Senior                                0.004349\n",
       "DogToleratesCold                                0.004190\n",
       "LifeStage_Prime                                 0.004099\n",
       "Sex_Male                                        0.003848\n",
       "Sex_Female                                      0.003253\n",
       "BreedPurity_Crossbreeds                         0.002971\n",
       "DogEasyToGroom                                  0.002781\n",
       "DogFamily_Pit Bull                              0.002519\n",
       "DogHighEnergy                                   0.002297\n",
       "DogFamily_Irrelevant                            0.002268\n",
       "ColorCoat_Bicolor                               0.001757\n",
       "ColorCoat_Solid                                 0.001561\n",
       "DogIntelligence                                 0.001202\n",
       "ColorCoat_Tabby                                 0.001091\n",
       "DogLowBarking                                   0.000900\n",
       "LifeStage_Mature                                0.000838\n",
       "MainBreed_Pit Bull                              0.000790\n",
       "DogGoodHealth                                   0.000692\n",
       "ColorGroup_Brown/White                          0.000674\n",
       "ColorGroup_Black/White                          0.000624\n",
       "DogFamily_Herding                               0.000586\n",
       "                                                  ...   \n",
       "MainBreed_Rottweiler                            0.000000\n",
       "MainBreed_Rhod Ridgeback                        0.000000\n",
       "MainBreed_Redbone Hound                         0.000000\n",
       "MainBreed_Rat Terrier                           0.000000\n",
       "MainBreed_Ragdoll                               0.000000\n",
       "MainBreed_Queensland Heeler                     0.000000\n",
       "MainBreed_Pug                                   0.000000\n",
       "MainBreed_Presa Canario                         0.000000\n",
       "MainBreed_Port Water Dog                        0.000000\n",
       "MainBreed_Pomeranian                            0.000000\n",
       "MainBreed_Pointer                               0.000000\n",
       "MainBreed_Podengo Pequeno                       0.000000\n",
       "MainBreed_Plott Hound                           0.000000\n",
       "MainBreed_Picardy Sheepdog                      0.000000\n",
       "MainBreed_Norwegian Forest Cat                  0.000000\n",
       "MainBreed_Pharaoh Hound                         0.000000\n",
       "MainBreed_Persian                               0.000000\n",
       "MainBreed_Pembroke Welsh Corgi                  0.000000\n",
       "MainBreed_Pekingese                             0.000000\n",
       "MainBreed_Pbgv                                  0.000000\n",
       "MainBreed_Patterdale Terr                       0.000000\n",
       "MainBreed_Parson Russell Terrier                0.000000\n",
       "MainBreed_Papillon                              0.000000\n",
       "MainBreed_Otterhound                            0.000000\n",
       "MainBreed_Old English Sheepdog                  0.000000\n",
       "MainBreed_Old English Bulldog                   0.000000\n",
       "MainBreed_Ocicat                                0.000000\n",
       "MainBreed_Nova Scotia Duck Tolling Retriever    0.000000\n",
       "MainBreed_Norwich Terrier                       0.000000\n",
       "MainBreed_Italian Greyhound                     0.000000\n",
       "Length: 295, dtype: float64"
      ]
     },
     "execution_count": 422,
     "metadata": {},
     "output_type": "execute_result"
    }
   ],
   "source": [
    "X = outcomes2.drop('OutcomeType', axis=1)\n",
    "y = outcomes2.OutcomeType\n",
    "X = pd.get_dummies(X)\n",
    "X_train, X_test, y_train, y_test = split(X, y, train_size=0.7, random_state=4014)\n",
    "DT_clf = DecisionTreeClassifier(max_depth=20, min_samples_split=100, min_samples_leaf=100)\n",
    "DT_clf.fit(X_train, y_train)\n",
    "\n",
    "pd.Series(DT_clf.feature_importances_, index=X.columns).sort_values(ascending=False)"
   ]
  },
  {
   "cell_type": "markdown",
   "metadata": {},
   "source": [
    "Based on the above finding, I'll try to run the model with the following features solely:\n",
    "\n",
    "NeuterStatus, LifeStage, Named, AnimalType, DogSize, DogLowShedding, DogToleratesCold, Sex, BreedPurity, DogEasyToGroom, DogFamily\n"
   ]
  },
  {
   "cell_type": "code",
   "execution_count": 431,
   "metadata": {},
   "outputs": [
    {
     "name": "stdout",
     "output_type": "stream",
     "text": [
      "Train: 0.6512809541637696\n",
      "Test:  0.6421262790117295\n"
     ]
    }
   ],
   "source": [
    "not_important_cols = [col for col in list(outcomes2.columns) if col not in\n",
    "                     ['NeuterStatus','LifeStage','Named','AnimalType','DogSize','DogLowShedding',\n",
    "                      'DogToleratesCold','Sex','BreedPurity','DogEasyToGroom','DogFamily']]\n",
    "X_important = outcomes2.drop(columns=not_important_cols)\n",
    "\n",
    "X_important = pd.get_dummies(X_important)\n",
    "\n",
    "X_important_train, X_important_test, y_train, y_test = split(X_important, y, train_size=0.7, random_state=4014)\n",
    "\n",
    "DT_clf = DecisionTreeClassifier(max_depth=10, min_samples_split=50, min_samples_leaf=50)\n",
    "DT_clf.fit(X_important_train, y_train)\n",
    "\n",
    "print('Train:', DT_clf.score(X_important_train, y_train))\n",
    "print('Test: ', DT_clf.score(X_important_test, y_test))"
   ]
  },
  {
   "cell_type": "markdown",
   "metadata": {},
   "source": [
    "A slight improvement (**best score so far...**)\n"
   ]
  },
  {
   "cell_type": "markdown",
   "metadata": {},
   "source": [
    "## 4. K-NN"
   ]
  },
  {
   "cell_type": "code",
   "execution_count": 510,
   "metadata": {},
   "outputs": [
    {
     "data": {
      "text/plain": [
       "KNeighborsClassifier(algorithm='auto', leaf_size=30, metric='minkowski',\n",
       "           metric_params=None, n_jobs=1, n_neighbors=20, p=2,\n",
       "           weights='uniform')"
      ]
     },
     "execution_count": 510,
     "metadata": {},
     "output_type": "execute_result"
    }
   ],
   "source": [
    "X = outcomes2.drop('OutcomeType', axis=1)\n",
    "y = outcomes2.OutcomeType\n",
    "X = pd.get_dummies(X)\n",
    "X_train, X_test, y_train, y_test = split(X, y, train_size=0.7, random_state=4014)\n",
    "\n",
    "KNN_clf = KNeighborsClassifier(n_neighbors=20) # I tried several k's and this seems to be the best\n",
    "                                              # I also examined 'euclidean' and 'manhattan' metrics,but there was no improvement\n",
    "KNN_clf.fit(X_train, y_train)"
   ]
  },
  {
   "cell_type": "code",
   "execution_count": 504,
   "metadata": {},
   "outputs": [
    {
     "name": "stdout",
     "output_type": "stream",
     "text": [
      "Train: 0.6401561747873991\n",
      "Test:  0.6091839281257799\n"
     ]
    }
   ],
   "source": [
    "print('Train:', KNN_clf.score(X_train, y_train))\n",
    "print('Test: ', KNN_clf.score(X_test, y_test))"
   ]
  },
  {
   "cell_type": "markdown",
   "metadata": {},
   "source": [
    "### Trying to improve the data"
   ]
  },
  {
   "cell_type": "code",
   "execution_count": 505,
   "metadata": {},
   "outputs": [
    {
     "name": "stdout",
     "output_type": "stream",
     "text": [
      "Train: 0.6421351018880034\n",
      "Test:  0.6069378587471924\n"
     ]
    }
   ],
   "source": [
    "# Convert 999 values to median (as done above with the dogs)\n",
    "\n",
    "outcomes2_KNN = outcomes2.copy()\n",
    "\n",
    "for col in dog_columns:   \n",
    "    if outcomes2_KNN[col].dtype == 'int32':\n",
    "        outcomes2_KNN[col] = outcomes2_KNN[col].where(outcomes2_KNN[col] < 999)   # convert 999 to NaN\n",
    "        outcomes2_KNN[col].fillna(outcomes2_KNN[col].median(), inplace=True)      # set median value where NaN\n",
    "\n",
    "X = outcomes2_KNN.drop('OutcomeType', axis=1)\n",
    "y = outcomes2_KNN.OutcomeType\n",
    "X = pd.get_dummies(X)\n",
    "X_train, X_test, y_train, y_test = split(X, y, train_size=0.7, random_state=4014)\n",
    "\n",
    "KNN_clf = KNeighborsClassifier(n_neighbors=20) \n",
    "KNN_clf.fit(X_train, y_train)\n",
    "\n",
    "print('Train:', KNN_clf.score(X_train, y_train))\n",
    "print('Test: ', KNN_clf.score(X_test, y_test))"
   ]
  },
  {
   "cell_type": "markdown",
   "metadata": {},
   "source": [
    "No improvement"
   ]
  },
  {
   "cell_type": "code",
   "execution_count": 506,
   "metadata": {},
   "outputs": [
    {
     "name": "stdout",
     "output_type": "stream",
     "text": [
      "Train: 0.6397282986575387\n",
      "Test:  0.6106813077115049\n"
     ]
    }
   ],
   "source": [
    "# Categorize the Dogs features\n",
    "\n",
    "outcomes2_KNN = outcomes2.copy()\n",
    "\n",
    "X = outcomes2_KNN.drop('OutcomeType', axis=1)\n",
    "y = outcomes2_KNN.OutcomeType\n",
    "cols = [col for col in list(X.columns) if col != 'Named']\n",
    "X = pd.get_dummies(X, columns=cols)\n",
    "X_train, X_test, y_train, y_test = split(X, y, train_size=0.7, random_state=4014)\n",
    "\n",
    "KNN_clf = KNeighborsClassifier(n_neighbors=20) \n",
    "KNN_clf.fit(X_train, y_train)\n",
    "\n",
    "print('Train:', KNN_clf.score(X_train, y_train))\n",
    "print('Test: ', KNN_clf.score(X_test, y_test))"
   ]
  },
  {
   "cell_type": "markdown",
   "metadata": {},
   "source": [
    "A slight improvement"
   ]
  },
  {
   "cell_type": "code",
   "execution_count": 508,
   "metadata": {},
   "outputs": [
    {
     "name": "stdout",
     "output_type": "stream",
     "text": [
      "Train: 0.6462534096379098\n",
      "Test:  0.620539056650861\n"
     ]
    }
   ],
   "source": [
    "# Using only the \"important features\" (as found above), with categorization\n",
    "\n",
    "outcomes2_KNN = outcomes2.copy()\n",
    "\n",
    "not_important_cols = [col for col in list(outcomes2_KNN.columns) if col not in\n",
    "                     ['NeuterStatus','LifeStage','Named','AnimalType','DogSize','DogLowShedding',\n",
    "                      'DogToleratesCold','Sex','BreedPurity','DogEasyToGroom','DogFamily']]\n",
    "X_important = outcomes2_KNN.drop(columns=not_important_cols)\n",
    "\n",
    "cols = [col for col in list(X_important.columns) if col != 'Named']\n",
    "X_important = pd.get_dummies(X_important, columns=cols)\n",
    "\n",
    "X_important_train, X_important_test, y_train, y_test = split(X_important, y, train_size=0.7, random_state=4014)\n",
    "\n",
    "KNN_clf = KNeighborsClassifier(n_neighbors=20) \n",
    "KNN_clf.fit(X_important_train, y_train)\n",
    "\n",
    "print('Train:', KNN_clf.score(X_important_train, y_train))\n",
    "print('Test: ', KNN_clf.score(X_important_test, y_test))"
   ]
  },
  {
   "cell_type": "markdown",
   "metadata": {},
   "source": [
    "Another improvement"
   ]
  },
  {
   "cell_type": "markdown",
   "metadata": {},
   "source": [
    "## 5. Logistic Regression"
   ]
  },
  {
   "cell_type": "code",
   "execution_count": 513,
   "metadata": {},
   "outputs": [
    {
     "name": "stdout",
     "output_type": "stream",
     "text": [
      "Train: 0.6488206664170723\n",
      "Test:  0.636386323933117\n"
     ]
    }
   ],
   "source": [
    "X = outcomes2.drop('OutcomeType', axis=1)\n",
    "y = outcomes2.OutcomeType\n",
    "X = pd.get_dummies(X)\n",
    "X_train, X_test, y_train, y_test = split(X, y, train_size=0.7, random_state=4014)\n",
    "\n",
    "LR_clf = LogisticRegression().fit(X_train, y_train)\n",
    "print('Train:', LR_clf.score(X_train, y_train))\n",
    "print('Test: ', LR_clf.score(X_test, y_test))"
   ]
  },
  {
   "cell_type": "markdown",
   "metadata": {},
   "source": [
    "### Trying to improve the data"
   ]
  },
  {
   "cell_type": "code",
   "execution_count": 514,
   "metadata": {},
   "outputs": [
    {
     "name": "stdout",
     "output_type": "stream",
     "text": [
      "Train: 0.6514414077124673\n",
      "Test:  0.6348889443473921\n"
     ]
    }
   ],
   "source": [
    "# Categorize the Dogs features\n",
    "\n",
    "outcomes2_LR = outcomes2.copy()\n",
    "\n",
    "X = outcomes2_LR.drop('OutcomeType', axis=1)\n",
    "y = outcomes2_LR.OutcomeType\n",
    "cols = [col for col in list(X.columns) if col != 'Named']\n",
    "X = pd.get_dummies(X, columns=cols)\n",
    "X_train, X_test, y_train, y_test = split(X, y, train_size=0.7, random_state=4014)\n",
    "\n",
    "LR_clf = LogisticRegression().fit(X_train, y_train)\n",
    "\n",
    "print('Train:', LR_clf.score(X_train, y_train))\n",
    "print('Test: ', LR_clf.score(X_test, y_test))"
   ]
  },
  {
   "cell_type": "markdown",
   "metadata": {},
   "source": [
    "No improvement"
   ]
  },
  {
   "cell_type": "code",
   "execution_count": 516,
   "metadata": {},
   "outputs": [
    {
     "name": "stdout",
     "output_type": "stream",
     "text": [
      "Train: 0.6458255335080494\n",
      "Test:  0.6395058647367108\n"
     ]
    }
   ],
   "source": [
    "# Using only the \"important features\" (as found above), with categorization\n",
    "\n",
    "outcomes2_LR = outcomes2.copy()\n",
    "\n",
    "not_important_cols = [col for col in list(outcomes2_LR.columns) if col not in\n",
    "                     ['NeuterStatus','LifeStage','Named','AnimalType','DogSize','DogLowShedding',\n",
    "                      'DogToleratesCold','Sex','BreedPurity','DogEasyToGroom','DogFamily']]\n",
    "X_important = outcomes2_LR.drop(columns=not_important_cols)\n",
    "\n",
    "cols = [col for col in list(X_important.columns) if col != 'Named']\n",
    "X_important = pd.get_dummies(X_important, columns=cols)\n",
    "\n",
    "X_important_train, X_important_test, y_train, y_test = split(X_important, y, train_size=0.7, random_state=4014)\n",
    "\n",
    "LR_clf = LogisticRegression().fit(X_important_train, y_train)\n",
    "\n",
    "print('Train:', LR_clf.score(X_important_train, y_train))\n",
    "print('Test: ', LR_clf.score(X_important_test, y_test))"
   ]
  },
  {
   "cell_type": "markdown",
   "metadata": {},
   "source": [
    "A slight improvement"
   ]
  },
  {
   "cell_type": "markdown",
   "metadata": {},
   "source": [
    "## 6. SVM"
   ]
  },
  {
   "cell_type": "markdown",
   "metadata": {},
   "source": [
    "### 6.1. Linear SVM"
   ]
  },
  {
   "cell_type": "code",
   "execution_count": 517,
   "metadata": {},
   "outputs": [
    {
     "name": "stdout",
     "output_type": "stream",
     "text": [
      "Train: 0.5119537893779751\n",
      "Test:  0.50299475917145\n"
     ]
    }
   ],
   "source": [
    "X = outcomes2.drop('OutcomeType', axis=1)\n",
    "y = outcomes2.OutcomeType\n",
    "X = pd.get_dummies(X)\n",
    "X_train, X_test, y_train, y_test = split(X, y, train_size=0.7, random_state=4014)\n",
    "\n",
    "SVM_clf = LinearSVC().fit(X_train, y_train)\n",
    "print('Train:', SVM_clf.score(X_train, y_train))\n",
    "print('Test: ', SVM_clf.score(X_test, y_test))"
   ]
  },
  {
   "cell_type": "markdown",
   "metadata": {},
   "source": [
    "A bad result (not surprisingly)"
   ]
  },
  {
   "cell_type": "markdown",
   "metadata": {},
   "source": [
    "### 6.2. Non-linear SVM"
   ]
  },
  {
   "cell_type": "code",
   "execution_count": 518,
   "metadata": {},
   "outputs": [
    {
     "name": "stdout",
     "output_type": "stream",
     "text": [
      "Train: 0.6332566721934\n",
      "Test:  0.6276516096830547\n"
     ]
    }
   ],
   "source": [
    "X = outcomes2.drop('OutcomeType', axis=1)\n",
    "y = outcomes2.OutcomeType\n",
    "X = pd.get_dummies(X)\n",
    "X_train, X_test, y_train, y_test = split(X, y, train_size=0.7, random_state=4014)\n",
    "\n",
    "SVM_clf = SVC(kernel='rbf').fit(X_train, y_train)\n",
    "print('Train:', SVM_clf.score(X_train, y_train))\n",
    "print('Test: ', SVM_clf.score(X_test, y_test))"
   ]
  },
  {
   "cell_type": "markdown",
   "metadata": {},
   "source": [
    "### Trying to improve the data"
   ]
  },
  {
   "cell_type": "code",
   "execution_count": 525,
   "metadata": {},
   "outputs": [
    {
     "name": "stdout",
     "output_type": "stream",
     "text": [
      "Train: 0.6403166283360967\n",
      "Test:  0.6376341402545546\n"
     ]
    }
   ],
   "source": [
    "# Categorize the Dogs features\n",
    "\n",
    "outcomes2_SVM = outcomes2.copy()\n",
    "\n",
    "X = outcomes2_SVM.drop('OutcomeType', axis=1)\n",
    "y = outcomes2_SVM.OutcomeType\n",
    "cols = [col for col in list(X.columns) if col != 'Named']\n",
    "X = pd.get_dummies(X, columns=cols)\n",
    "X_train, X_test, y_train, y_test = split(X, y, train_size=0.7, random_state=4014)\n",
    "\n",
    "SVM_clf = SVC(C=1, kernel='rbf').fit(X_train, y_train) # I tried several kernels and values of C. This seems to be the best\n",
    "\n",
    "print('Train:', SVM_clf.score(X_train, y_train))\n",
    "print('Test: ', SVM_clf.score(X_test, y_test))"
   ]
  },
  {
   "cell_type": "markdown",
   "metadata": {},
   "source": [
    "A slight improvement"
   ]
  },
  {
   "cell_type": "code",
   "execution_count": 521,
   "metadata": {},
   "outputs": [
    {
     "name": "stdout",
     "output_type": "stream",
     "text": [
      "Train: 0.6412793496282826\n",
      "Test:  0.6352632892438234\n"
     ]
    }
   ],
   "source": [
    "# Using only the \"important features\" (as found above), with categorization\n",
    "\n",
    "outcomes2_SVM = outcomes2.copy()\n",
    "\n",
    "not_important_cols = [col for col in list(outcomes2_SVM.columns) if col not in\n",
    "                     ['NeuterStatus','LifeStage','Named','AnimalType','DogSize','DogLowShedding',\n",
    "                      'DogToleratesCold','Sex','BreedPurity','DogEasyToGroom','DogFamily']]\n",
    "X_important = outcomes2_SVM.drop(columns=not_important_cols)\n",
    "\n",
    "cols = [col for col in list(X_important.columns) if col != 'Named']\n",
    "X_important = pd.get_dummies(X_important, columns=cols)\n",
    "\n",
    "X_important_train, X_important_test, y_train, y_test = split(X_important, y, train_size=0.7, random_state=4014)\n",
    "\n",
    "SVM_clf = SVC(C=3, kernel='rbf').fit(X_important_train, y_train)\n",
    "\n",
    "print('Train:', SVM_clf.score(X_important_train, y_train))\n",
    "print('Test: ', SVM_clf.score(X_important_test, y_test))"
   ]
  },
  {
   "cell_type": "markdown",
   "metadata": {},
   "source": [
    "No improvement"
   ]
  },
  {
   "cell_type": "markdown",
   "metadata": {},
   "source": [
    "## 7. Feature Selection (round III)"
   ]
  },
  {
   "cell_type": "markdown",
   "metadata": {},
   "source": [
    "### 7.1. VarianceThreshold"
   ]
  },
  {
   "cell_type": "code",
   "execution_count": 652,
   "metadata": {},
   "outputs": [
    {
     "name": "stdout",
     "output_type": "stream",
     "text": [
      "(26711, 354)\n",
      "(18697, 33)\n"
     ]
    }
   ],
   "source": [
    "X = outcomes2.drop('OutcomeType', axis=1)\n",
    "y = outcomes2.OutcomeType\n",
    "cols = [col for col in list(X.columns) if col != 'Named']\n",
    "X = pd.get_dummies(X, columns=cols)\n",
    "print(X.shape)\n",
    "\n",
    "X_train, X_test, y_train, y_test = split(X, y, train_size=0.7, random_state=4014)\n",
    "\n",
    "selector = VarianceThreshold(threshold=0.16)  # 0.8 * 0.2\n",
    "X_train_high_variance = selector.fit_transform(X_train)\n",
    "X_test_high_variance = selector.fit_transform(X_test)\n",
    "\n",
    "print(X_train_high_variance.shape)"
   ]
  },
  {
   "cell_type": "code",
   "execution_count": 653,
   "metadata": {},
   "outputs": [
    {
     "name": "stdout",
     "output_type": "stream",
     "text": [
      "DT:\n",
      "===\n",
      "Train: 0.6429908541477243\n",
      "Test:  0.6397554280009983\n"
     ]
    }
   ],
   "source": [
    "print('DT:\\n===')\n",
    "DT_clf = DecisionTreeClassifier(max_depth=20, min_samples_split=100, min_samples_leaf=100)\n",
    "DT_clf.fit(X_train_high_variance, y_train)\n",
    "print('Train:', DT_clf.score(X_train_high_variance, y_train))\n",
    "print('Test: ', DT_clf.score(X_test_high_variance, y_test))"
   ]
  },
  {
   "cell_type": "code",
   "execution_count": 655,
   "metadata": {},
   "outputs": [
    {
     "name": "stdout",
     "output_type": "stream",
     "text": [
      "K-NN:\n",
      "=====\n",
      "Train: 0.6464138631866074\n",
      "Test:  0.6271524831544797\n"
     ]
    }
   ],
   "source": [
    "print('K-NN:\\n=====')\n",
    "KNN_clf = KNeighborsClassifier(n_neighbors=20)\n",
    "KNN_clf.fit(X_train_high_variance, y_train)\n",
    "print('Train:', KNN_clf.score(X_train_high_variance, y_train))\n",
    "print('Test: ', KNN_clf.score(X_test_high_variance, y_test))"
   ]
  },
  {
   "cell_type": "code",
   "execution_count": 656,
   "metadata": {},
   "outputs": [
    {
     "name": "stdout",
     "output_type": "stream",
     "text": [
      "LR:\n",
      "===\n",
      "Train: 0.6383377012354923\n",
      "Test:  0.6350137259795358\n"
     ]
    }
   ],
   "source": [
    "print('LR:\\n===')\n",
    "LR_clf = LogisticRegression().fit(X_train_high_variance, y_train)\n",
    "print('Train:', LR_clf.score(X_train_high_variance, y_train))\n",
    "print('Test: ', LR_clf.score(X_test_high_variance, y_test))"
   ]
  },
  {
   "cell_type": "code",
   "execution_count": 668,
   "metadata": {},
   "outputs": [
    {
     "name": "stdout",
     "output_type": "stream",
     "text": [
      "SVM:\n",
      "====\n",
      "Train: 0.6346472696154464\n",
      "Test:  0.6322685300723734\n"
     ]
    }
   ],
   "source": [
    "print('SVM:\\n====')\n",
    "SVM_clf = SVC().fit(X_train_high_variance, y_train)\n",
    "print('Train:', SVM_clf.score(X_train_high_variance, y_train))\n",
    "print('Test: ', SVM_clf.score(X_test_high_variance, y_test))"
   ]
  },
  {
   "cell_type": "markdown",
   "metadata": {},
   "source": [
    "### 7.2. SelectKBest"
   ]
  },
  {
   "cell_type": "code",
   "execution_count": 662,
   "metadata": {},
   "outputs": [
    {
     "name": "stdout",
     "output_type": "stream",
     "text": [
      "(26711, 354)\n",
      "(18697, 20)\n"
     ]
    }
   ],
   "source": [
    "X = outcomes2.drop('OutcomeType', axis=1)\n",
    "y = outcomes2.OutcomeType\n",
    "cols = [col for col in list(X.columns) if col != 'Named']\n",
    "X = pd.get_dummies(X, columns=cols)\n",
    "print(X.shape)\n",
    "\n",
    "X_train, X_test, y_train, y_test = split(X, y, train_size=0.7, random_state=4014)\n",
    "\n",
    "X_train_KBest = SelectKBest(k=20).fit_transform(X_train, y_train)\n",
    "X_test_KBest = SelectKBest(k=20).fit_transform(X_test, y_test)\n",
    "\n",
    "print(X_train_KBest.shape)"
   ]
  },
  {
   "cell_type": "code",
   "execution_count": 664,
   "metadata": {},
   "outputs": [
    {
     "name": "stdout",
     "output_type": "stream",
     "text": [
      "DT:\n",
      "===\n",
      "Train: 0.6187623682943788\n",
      "Test:  0.6140504117793861\n"
     ]
    }
   ],
   "source": [
    "print('DT:\\n===')\n",
    "DT_clf = DecisionTreeClassifier(max_depth=20, min_samples_split=30, min_samples_leaf=30)\n",
    "DT_clf.fit(X_train_KBest, y_train)\n",
    "print('Train:', DT_clf.score(X_train_KBest, y_train))\n",
    "print('Test: ', DT_clf.score(X_test_KBest, y_test))"
   ]
  },
  {
   "cell_type": "code",
   "execution_count": 665,
   "metadata": {},
   "outputs": [
    {
     "name": "stdout",
     "output_type": "stream",
     "text": [
      "K-NN:\n",
      "=====\n",
      "Train: 0.6100978766647056\n",
      "Test:  0.6064387322186174\n"
     ]
    }
   ],
   "source": [
    "print('K-NN:\\n=====')\n",
    "KNN_clf = KNeighborsClassifier(n_neighbors=15)\n",
    "KNN_clf.fit(X_train_KBest, y_train)\n",
    "print('Train:', KNN_clf.score(X_train_KBest, y_train))\n",
    "print('Test: ', KNN_clf.score(X_test_KBest, y_test))"
   ]
  },
  {
   "cell_type": "code",
   "execution_count": 666,
   "metadata": {},
   "outputs": [
    {
     "name": "stdout",
     "output_type": "stream",
     "text": [
      "LR:\n",
      "===\n",
      "Train: 0.6140557308659144\n",
      "Test:  0.6098078362864986\n"
     ]
    }
   ],
   "source": [
    "print('LR:\\n===')\n",
    "LR_clf = LogisticRegression().fit(X_train_KBest, y_train)\n",
    "print('Train:', LR_clf.score(X_train_KBest, y_train))\n",
    "print('Test: ', LR_clf.score(X_test_KBest, y_test))"
   ]
  },
  {
   "cell_type": "code",
   "execution_count": 669,
   "metadata": {},
   "outputs": [
    {
     "name": "stdout",
     "output_type": "stream",
     "text": [
      "SVM:\n",
      "====\n",
      "Train: 0.6113280205380542\n",
      "Test:  0.6081856750686299\n"
     ]
    }
   ],
   "source": [
    "print('SVM:\\n====')\n",
    "SVM_clf = SVC().fit(X_train_KBest, y_train)\n",
    "print('Train:', SVM_clf.score(X_train_KBest, y_train))\n",
    "print('Test: ', SVM_clf.score(X_test_KBest, y_test))"
   ]
  },
  {
   "cell_type": "markdown",
   "metadata": {},
   "source": [
    "### 7.3. PCA"
   ]
  },
  {
   "cell_type": "markdown",
   "metadata": {},
   "source": [
    "### 7.3.1. Finding number of principal components"
   ]
  },
  {
   "cell_type": "code",
   "execution_count": 720,
   "metadata": {},
   "outputs": [],
   "source": [
    "X = outcomes2.drop('OutcomeType', axis=1)\n",
    "y = outcomes2.OutcomeType\n",
    "cols = [col for col in list(X.columns) if col != 'Named']\n",
    "X = pd.get_dummies(X, columns=cols)\n",
    "X_train, X_test, y_train, y_test = split(X, y, train_size=0.7, random_state=4014)"
   ]
  },
  {
   "cell_type": "code",
   "execution_count": 703,
   "metadata": {},
   "outputs": [],
   "source": [
    "train_scores = []\n",
    "test_scores = []\n",
    "for k in range(1, 30):\n",
    "    pca_transformer = PCA(n_components=k).fit(X_train)\n",
    "    X_train_pca = pca_transformer.transform(X_train)\n",
    "    clf = DecisionTreeClassifier(max_depth=20, min_samples_split=100, min_samples_leaf=100).fit(X_train_pca, y_train)\n",
    "    X_test_pca = pca_transformer.transform(X_test)\n",
    "    train_scores.append(clf.score(X_train_pca, y_train))\n",
    "    test_scores.append(clf.score(X_test_pca, y_test))"
   ]
  },
  {
   "cell_type": "code",
   "execution_count": 704,
   "metadata": {},
   "outputs": [
    {
     "data": {
      "text/plain": [
       "<matplotlib.legend.Legend at 0x2648c322630>"
      ]
     },
     "execution_count": 704,
     "metadata": {},
     "output_type": "execute_result"
    },
    {
     "data": {
      "image/png": "[encoded data removed]",
      "text/plain": [
       "<Figure size 432x288 with 1 Axes>"
      ]
     },
     "metadata": {},
     "output_type": "display_data"
    }
   ],
   "source": [
    "plt.plot(list(zip(train_scores[1:20], test_scores[1:20])), linewidth=5)\n",
    "plt.title('Model score vs. number of components')\n",
    "plt.xlabel('n_components')\n",
    "plt.ylabel('Score (accuracy)')\n",
    "plt.legend(['train score', 'test score'], loc='best')"
   ]
  },
  {
   "cell_type": "code",
   "execution_count": 705,
   "metadata": {},
   "outputs": [
    {
     "data": {
      "text/plain": [
       "array([0.35211773, 0.43025616, 0.47743884, 0.51540716, 0.55063205,\n",
       "       0.57980551, 0.60161763, 0.62276734, 0.64263677, 0.66177181,\n",
       "       0.67886498, 0.69551356, 0.7104849 , 0.72445063, 0.7380419 ,\n",
       "       0.75065726, 0.76254088, 0.77424256, 0.78483297, 0.79468571,\n",
       "       0.80398771, 0.81320206, 0.82155642, 0.82883374, 0.83599545,\n",
       "       0.8429198 , 0.84949993, 0.85560125, 0.86153743])"
      ]
     },
     "execution_count": 705,
     "metadata": {},
     "output_type": "execute_result"
    }
   ],
   "source": [
    "pca_transformer.explained_variance_ratio_.cumsum()"
   ]
  },
  {
   "cell_type": "markdown",
   "metadata": {},
   "source": [
    "It seems that the best number of components is 6"
   ]
  },
  {
   "cell_type": "code",
   "execution_count": 689,
   "metadata": {},
   "outputs": [],
   "source": [
    "pca_transformer = PCA(6)\n",
    "X_train_pca = pca_transformer.fit_transform(X_train)\n",
    "X_test_pca = pca_transformer.transform(X_test)"
   ]
  },
  {
   "cell_type": "code",
   "execution_count": 696,
   "metadata": {},
   "outputs": [
    {
     "name": "stdout",
     "output_type": "stream",
     "text": [
      "DT:\n",
      "===\n",
      "Train: 0.6457720489918168\n",
      "Test:  0.6247816321437485\n",
      "\n",
      "K-NN:\n",
      "=====\n",
      "Train: 0.6590896935337219\n",
      "Test:  0.6164212627901173\n",
      "\n",
      "LR:\n",
      "===\n",
      "Train: 0.6204203882975878\n",
      "Test:  0.6166708260544048\n",
      "\n",
      "SVM:\n",
      "====\n",
      "Train: 0.6386586083328877\n",
      "Test:  0.6303968055902172\n"
     ]
    }
   ],
   "source": [
    "print('DT:\\n===')\n",
    "DT_clf = DecisionTreeClassifier(max_depth=20, min_samples_split=100, min_samples_leaf=100)\n",
    "DT_clf.fit(X_train_pca, y_train)\n",
    "print('Train:', DT_clf.score(X_train_pca, y_train))\n",
    "print('Test: ', DT_clf.score(X_test_pca, y_test))\n",
    "\n",
    "print('\\nK-NN:\\n=====')\n",
    "KNN_clf = KNeighborsClassifier(n_neighbors=15)\n",
    "KNN_clf.fit(X_train_pca, y_train)\n",
    "print('Train:', KNN_clf.score(X_train_pca, y_train))\n",
    "print('Test: ', KNN_clf.score(X_test_pca, y_test))\n",
    "\n",
    "print('\\nLR:\\n===')\n",
    "LR_clf = LogisticRegression().fit(X_train_pca, y_train)\n",
    "print('Train:', LR_clf.score(X_train_pca, y_train))\n",
    "print('Test: ', LR_clf.score(X_test_pca, y_test))\n",
    "\n",
    "print('\\nSVM:\\n====')\n",
    "SVM_clf = SVC().fit(X_train_pca, y_train)\n",
    "print('Train:', SVM_clf.score(X_train_pca, y_train))\n",
    "print('Test: ', SVM_clf.score(X_test_pca, y_test))"
   ]
  },
  {
   "cell_type": "markdown",
   "metadata": {},
   "source": [
    "## 8. Using Pipeline (with K-NN)"
   ]
  },
  {
   "cell_type": "code",
   "execution_count": 712,
   "metadata": {},
   "outputs": [
    {
     "name": "stdout",
     "output_type": "stream",
     "text": [
      "results for 1 components:  Train: 0.5882227095255923 Test: 0.5319440978287996\n",
      "results for 2 components:  Train: 0.618387976680751 Test: 0.5673820813576241\n",
      "results for 3 components:  Train: 0.6265176231480987 Test: 0.5782380833541303\n",
      "results for 4 components:  Train: 0.6365727121998181 Test: 0.5927127526828051\n",
      "results for 5 components:  Train: 0.6391934534952132 Test: 0.5907162465685051\n",
      "results for 6 components:  Train: 0.6559875915922341 Test: 0.6119291240329423\n",
      "results for 7 components:  Train: 0.6613360432154891 Test: 0.620039930122286\n",
      "results for 8 components:  Train: 0.6626196716050703 Test: 0.621537309708011\n",
      "results for 9 components:  Train: 0.6607477135369311 Test: 0.619540803593711\n",
      "results for 10 components:  Train: 0.6591966625661871 Test: 0.6184177689044172\n",
      "results for 11 components:  Train: 0.660159383858373 Test: 0.6150486648365361\n",
      "results for 12 components:  Train: 0.6583409103064662 Test: 0.6159221362615424\n",
      "results for 13 components:  Train: 0.6614964967641868 Test: 0.6181682056401298\n",
      "results for 14 components:  Train: 0.6597315077285126 Test: 0.6177938607436986\n",
      "results for 15 components:  Train: 0.6574851580467455 Test: 0.6136760668829548\n",
      "results for 16 components:  Train: 0.6577525806279082 Test: 0.6138008485150985\n",
      "results for 17 components:  Train: 0.6593571161148848 Test: 0.6146743199401048\n",
      "results for 18 components:  Train: 0.6563084986896294 Test: 0.6111804342400798\n",
      "results for 19 components:  Train: 0.6592501470824197 Test: 0.6144247566758173\n"
     ]
    }
   ],
   "source": [
    "# find best number of components\n",
    "\n",
    "for n in range (1,20):\n",
    "    steps = [('reduce_dim', PCA(n)), ('clf', neighbors.KNeighborsClassifier(n_neighbors=15))]\n",
    "    pipe = Pipeline(steps)    \n",
    "    pipe.fit(X_train, y_train)\n",
    "    print(f'results for {n} components: ', 'Train:', pipe.score(X_train, y_train), 'Test:', pipe.score(X_test, y_test))"
   ]
  },
  {
   "cell_type": "markdown",
   "metadata": {},
   "source": [
    "Best result with number of components = 8"
   ]
  },
  {
   "cell_type": "code",
   "execution_count": 713,
   "metadata": {},
   "outputs": [
    {
     "name": "stdout",
     "output_type": "stream",
     "text": [
      "results for 5 n_neighbors:  Train: 0.6883457239129273 Test: 0.5975792363364113\n",
      "results for 6 n_neighbors:  Train: 0.6850296839065091 Test: 0.6086848015972048\n",
      "results for 7 n_neighbors:  Train: 0.6794138097020912 Test: 0.6144247566758173\n",
      "results for 8 n_neighbors:  Train: 0.6770070064716265 Test: 0.6126778138258049\n",
      "results for 9 n_neighbors:  Train: 0.6752420174359522 Test: 0.6151734464686798\n",
      "results for 10 n_neighbors:  Train: 0.6712306787185109 Test: 0.6157973546293986\n",
      "results for 11 n_neighbors:  Train: 0.6695191741990694 Test: 0.6209134015472922\n",
      "results for 12 n_neighbors:  Train: 0.67016098839386 Test: 0.6186673321687047\n",
      "results for 13 n_neighbors:  Train: 0.668021607744558 Test: 0.6162964811579735\n",
      "results for 14 n_neighbors:  Train: 0.6650799593517677 Test: 0.6254055403044672\n",
      "results for 15 n_neighbors:  Train: 0.6626731561213028 Test: 0.6270277015223359\n",
      "results for 16 n_neighbors:  Train: 0.6618708883778146 Test: 0.6219116546044422\n",
      "results for 17 n_neighbors:  Train: 0.6609081670856287 Test: 0.6211629648115797\n",
      "results for 18 n_neighbors:  Train: 0.6607477135369311 Test: 0.6244072872473172\n",
      "results for 19 n_neighbors:  Train: 0.6589292399850243 Test: 0.6236585974544547\n"
     ]
    }
   ],
   "source": [
    "# find best number of n_neighbors\n",
    "\n",
    "for k in range (5,20):\n",
    "    steps = [('reduce_dim', PCA(8)), ('clf', neighbors.KNeighborsClassifier(n_neighbors=k))]\n",
    "    pipe = Pipeline(steps)    \n",
    "    pipe.fit(X_train, y_train)\n",
    "    print(f'results for {k} n_neighbors: ', 'Train:', pipe.score(X_train, y_train), 'Test:', pipe.score(X_test, y_test))"
   ]
  },
  {
   "cell_type": "markdown",
   "metadata": {},
   "source": [
    "Best result with number of n_neighbors = 15"
   ]
  },
  {
   "cell_type": "markdown",
   "metadata": {},
   "source": [
    "## 9. Using Cross Validation (with SVM)"
   ]
  },
  {
   "cell_type": "code",
   "execution_count": 725,
   "metadata": {},
   "outputs": [
    {
     "name": "stdout",
     "output_type": "stream",
     "text": [
      "C = 1: mean=0.6155523032641212 std=0.00781287517387333\n",
      "C = 51: mean=0.6364118396030005 std=0.01174148416356297\n",
      "C = 101: mean=0.6371610032588644 std=0.011184285090547207\n",
      "C = 151: mean=0.6373209878203334 std=0.01241519720550821\n",
      "C = 201: mean=0.6379091088038396 std=0.012556083923854752\n",
      "C = 251: mean=0.6380699513599974 std=0.011803805746531849\n",
      "C = 301: mean=0.6384976730869051 std=0.010878269501982663\n",
      "C = 351: mean=0.6388722764178443 std=0.010713713057891263\n",
      "C = 401: mean=0.6386581867764296 std=0.010527612552631634\n",
      "C = 451: mean=0.6382840410931419 std=0.01082130414070127\n"
     ]
    }
   ],
   "source": [
    "for c in range (1,501,50):\n",
    "    steps = [('reduce_dim', PCA(8)), ('clf', SVC(C=c))]\n",
    "    pipe = Pipeline(steps)    \n",
    "    scores = cross_val_score(pipe, X_train, y_train, cv=5)\n",
    "    print(f'C = {c}: mean={scores.mean()} std={scores.std()}')"
   ]
  },
  {
   "cell_type": "code",
   "execution_count": 726,
   "metadata": {},
   "outputs": [
    {
     "name": "stdout",
     "output_type": "stream",
     "text": [
      "Train: 0.6571107664331176\n",
      "Test: 0.6385076116795607\n"
     ]
    }
   ],
   "source": [
    "steps = [('reduce_dim', PCA(8)), ('clf', SVC(C=350))]\n",
    "pipe = Pipeline(steps) \n",
    "pipe.fit(X_train, y_train)\n",
    "print('Train:', pipe.score(X_train, y_train))\n",
    "print('Test:', pipe.score(X_test, y_test))"
   ]
  },
  {
   "cell_type": "markdown",
   "metadata": {},
   "source": [
    "## 10. Grid Search (with DT)"
   ]
  },
  {
   "cell_type": "code",
   "execution_count": 752,
   "metadata": {},
   "outputs": [
    {
     "ename": "SyntaxError",
     "evalue": "invalid syntax (<ipython-input-752-d81081a57b71>, line 1)",
     "output_type": "error",
     "traceback": [
      "\u001b[1;36m  File \u001b[1;32m\"<ipython-input-752-d81081a57b71>\"\u001b[1;36m, line \u001b[1;32m1\u001b[0m\n\u001b[1;33m    stop here <<<>>>\u001b[0m\n\u001b[1;37m            ^\u001b[0m\n\u001b[1;31mSyntaxError\u001b[0m\u001b[1;31m:\u001b[0m invalid syntax\n"
     ]
    }
   ],
   "source": [
    "stop here <<<>>>"
   ]
  },
  {
   "cell_type": "code",
   "execution_count": 734,
   "metadata": {},
   "outputs": [
    {
     "name": "stdout",
     "output_type": "stream",
     "text": [
      "0.6194041824891694\n",
      "{'clf__max_depth': 7, 'clf__min_samples_leaf': 50, 'clf__min_samples_split': 70, 'reduce_dim__n_components': 8}\n"
     ]
    },
    {
     "data": {
      "text/plain": [
       "0.6184177689044172"
      ]
     },
     "execution_count": 734,
     "metadata": {},
     "output_type": "execute_result"
    }
   ],
   "source": [
    "steps = [('reduce_dim', PCA()), ('clf', DecisionTreeClassifier())]\n",
    "pipe = Pipeline(steps) \n",
    "\n",
    "parameters = {\n",
    "    'reduce_dim__n_components': range (5, 10),\n",
    "    'clf__max_depth': range(2, 10),\n",
    "    'clf__min_samples_split': [30, 50, 70, 100],\n",
    "    'clf__min_samples_leaf': range(10, 110, 10)}\n",
    "\n",
    "grid_search = GridSearchCV(pipe, parameters, cv=5)\n",
    "grid_search.fit(X_train, y_train)\n",
    "print(grid_search.best_score_)\n",
    "print(grid_search.best_params_)\n",
    "grid_search.score(X_test, y_test)"
   ]
  },
  {
   "cell_type": "markdown",
   "metadata": {},
   "source": [
    "Using these \"best parameters\" with the \"naive\" model as shown at the top of the page, will provide better results:"
   ]
  },
  {
   "cell_type": "code",
   "execution_count": 748,
   "metadata": {},
   "outputs": [
    {
     "name": "stdout",
     "output_type": "stream",
     "text": [
      "Train: 0.6497833877092581\n",
      "Test:  0.6425006239081608\n"
     ]
    }
   ],
   "source": [
    "X = outcomes2.drop('OutcomeType', axis=1)\n",
    "y = outcomes2.OutcomeType\n",
    "X = pd.get_dummies(X)\n",
    "X_train, X_test, y_train, y_test = split(X, y, train_size=0.7, random_state=4014)\n",
    "DT_clf = DecisionTreeClassifier(max_depth=7, min_samples_split=70, min_samples_leaf=50)\n",
    "DT_clf.fit(X_train, y_train)\n",
    "print('Train:', DT_clf.score(X_train, y_train))\n",
    "print('Test: ', DT_clf.score(X_test, y_test))"
   ]
  },
  {
   "cell_type": "markdown",
   "metadata": {},
   "source": [
    "**Best score so far...**\n"
   ]
  },
  {
   "cell_type": "markdown",
   "metadata": {},
   "source": [
    "## 11. Using Ensemble methods"
   ]
  },
  {
   "cell_type": "markdown",
   "metadata": {},
   "source": [
    "### 11.1. Voting"
   ]
  },
  {
   "cell_type": "code",
   "execution_count": 754,
   "metadata": {},
   "outputs": [],
   "source": [
    "X = outcomes2.drop('OutcomeType', axis=1)\n",
    "y = outcomes2.OutcomeType\n",
    "cols = [col for col in list(X.columns) if col != 'Named']\n",
    "X = pd.get_dummies(X, columns=cols)\n",
    "X_train, X_test, y_train, y_test = split(X, y, train_size=0.7, random_state=4014)\n",
    "\n",
    "clf1 = KNeighborsClassifier(n_neighbors=8)\n",
    "clf2 = DecisionTreeClassifier(max_depth=7, min_samples_split=70, min_samples_leaf=50)\n",
    "clf3 = SVC(350)\n",
    "clf4 = LogisticRegression()\n",
    "\n",
    "classifiers = [('KNN', clf1), ('DT', clf2), ('SVM', clf3), ('LR', clf4)]"
   ]
  },
  {
   "cell_type": "code",
   "execution_count": 755,
   "metadata": {},
   "outputs": [
    {
     "data": {
      "text/plain": [
       "VotingClassifier(estimators=[('KNN', KNeighborsClassifier(algorithm='auto', leaf_size=30, metric='minkowski',\n",
       "           metric_params=None, n_jobs=1, n_neighbors=8, p=2,\n",
       "           weights='uniform')), ('DT', DecisionTreeClassifier(class_weight=None, criterion='gini', max_depth=7,\n",
       "            max_features=None, max...ty='l2', random_state=None, solver='liblinear', tol=0.0001,\n",
       "          verbose=0, warm_start=False))],\n",
       "         flatten_transform=None, n_jobs=1, voting='hard', weights=None)"
      ]
     },
     "execution_count": 755,
     "metadata": {},
     "output_type": "execute_result"
    }
   ],
   "source": [
    "clf_voting = VotingClassifier(estimators=classifiers, voting='hard')\n",
    "clf_voting.fit(X_train, y_train)"
   ]
  },
  {
   "cell_type": "code",
   "execution_count": 757,
   "metadata": {},
   "outputs": [
    {
     "name": "stdout",
     "output_type": "stream",
     "text": [
      "Voting classifier:\n",
      "     \ttrain accuracy: 0.6692\n",
      "     \ttest accuracy: 0.6451\n",
      "                 precision    recall  f1-score   support\n",
      "\n",
      "       Adoption       0.62      0.89      0.73      3273\n",
      "           Died       0.00      0.00      0.00        67\n",
      "     Euthanasia       0.58      0.08      0.14       455\n",
      "Return_to_owner       0.50      0.39      0.44      1425\n",
      "       Transfer       0.77      0.60      0.67      2794\n",
      "\n",
      "    avg / total       0.64      0.65      0.62      8014\n",
      "\n"
     ]
    }
   ],
   "source": [
    "print(\"{:3} classifier:\\n \\\n",
    "    \\ttrain accuracy: {:.4f}\\n \\\n",
    "    \\ttest accuracy: {:.4f}\"\\\n",
    "    .format('Voting', \n",
    "            clf_voting.score(X_train, y_train), \n",
    "            clf_voting.score(X_test, y_test)))\n",
    "print(classification_report(y_test, clf_voting.predict(X_test)))"
   ]
  },
  {
   "cell_type": "markdown",
   "metadata": {},
   "source": [
    "**Best score so far! :) **\n"
   ]
  },
  {
   "cell_type": "code",
   "execution_count": 758,
   "metadata": {},
   "outputs": [
    {
     "name": "stdout",
     "output_type": "stream",
     "text": [
      "Voting classifier:\n",
      "     \ttrain accuracy: 0.6702\n",
      "     \ttest accuracy: 0.6442\n",
      "                 precision    recall  f1-score   support\n",
      "\n",
      "       Adoption       0.62      0.88      0.73      3273\n",
      "           Died       0.00      0.00      0.00        67\n",
      "     Euthanasia       0.59      0.08      0.14       455\n",
      "Return_to_owner       0.50      0.39      0.44      1425\n",
      "       Transfer       0.77      0.60      0.67      2794\n",
      "\n",
      "    avg / total       0.64      0.64      0.62      8014\n",
      "\n"
     ]
    }
   ],
   "source": [
    "# Run the above Voting on the original \"naive\" data\n",
    "\n",
    "X = outcomes2.drop('OutcomeType', axis=1)\n",
    "y = outcomes2.OutcomeType\n",
    "X = pd.get_dummies(X)\n",
    "X_train, X_test, y_train, y_test = split(X, y, train_size=0.7, random_state=4014)\n",
    "clf1 = KNeighborsClassifier(n_neighbors=8)\n",
    "clf2 = DecisionTreeClassifier(max_depth=7, min_samples_split=70, min_samples_leaf=50)\n",
    "clf3 = SVC(350)\n",
    "clf4 = LogisticRegression()\n",
    "classifiers = [('KNN', clf1), ('DT', clf2), ('SVM', clf3), ('LR', clf4)]\n",
    "clf_voting = VotingClassifier(estimators=classifiers, voting='hard')\n",
    "clf_voting.fit(X_train, y_train)\n",
    "print(\"{:3} classifier:\\n \\\n",
    "    \\ttrain accuracy: {:.4f}\\n \\\n",
    "    \\ttest accuracy: {:.4f}\"\\\n",
    "    .format('Voting', \n",
    "            clf_voting.score(X_train, y_train), \n",
    "            clf_voting.score(X_test, y_test)))\n",
    "print(classification_report(y_test, clf_voting.predict(X_test)))"
   ]
  },
  {
   "cell_type": "markdown",
   "metadata": {},
   "source": [
    "A bit worse than the earlier one"
   ]
  },
  {
   "cell_type": "markdown",
   "metadata": {},
   "source": [
    "### 11.2 Random Forest"
   ]
  },
  {
   "cell_type": "code",
   "execution_count": 762,
   "metadata": {},
   "outputs": [],
   "source": [
    "X = outcomes2.drop('OutcomeType', axis=1)\n",
    "y = outcomes2.OutcomeType\n",
    "cols = [col for col in list(X.columns) if col != 'Named']\n",
    "X = pd.get_dummies(X, columns=cols)\n",
    "X_train, X_test, y_train, y_test = split(X, y, train_size=0.7, random_state=4014)"
   ]
  },
  {
   "cell_type": "code",
   "execution_count": 793,
   "metadata": {},
   "outputs": [
    {
     "name": "stdout",
     "output_type": "stream",
     "text": [
      "Train: 0.8142482751243515\n",
      "Test:  0.5929623159470926\n"
     ]
    }
   ],
   "source": [
    "# using default parameters\n",
    "\n",
    "RF_clf = RandomForestClassifier(random_state=4014) \n",
    "RF_clf.fit(X_train, y_train)\n",
    "\n",
    "print('Train:', RF_clf.score(X_train, y_train))\n",
    "print('Test: ', RF_clf.score(X_test, y_test))"
   ]
  },
  {
   "cell_type": "code",
   "execution_count": 794,
   "metadata": {},
   "outputs": [
    {
     "name": "stdout",
     "output_type": "stream",
     "text": [
      "Train: 0.6155532973204257\n",
      "Test:  0.6128025954579486\n"
     ]
    }
   ],
   "source": [
    "# using the DT parameters\n",
    "\n",
    "RF_clf = RandomForestClassifier(max_depth=7, min_samples_split=70, min_samples_leaf=50, random_state=4014) \n",
    "RF_clf.fit(X_train, y_train)\n",
    "\n",
    "print('Train:', RF_clf.score(X_train, y_train))\n",
    "print('Test: ', RF_clf.score(X_test, y_test))"
   ]
  },
  {
   "cell_type": "code",
   "execution_count": 795,
   "metadata": {},
   "outputs": [
    {
     "name": "stdout",
     "output_type": "stream",
     "text": [
      "Train: 0.6772209445365567\n",
      "Test:  0.6381332667831295\n"
     ]
    }
   ],
   "source": [
    "# using other parameters (no fear of overfit)\n",
    "\n",
    "RF_clf = RandomForestClassifier(max_depth=15, min_samples_split=2, min_samples_leaf=2, random_state=4014) \n",
    "RF_clf.fit(X_train, y_train)\n",
    "\n",
    "print('Train:', RF_clf.score(X_train, y_train))\n",
    "print('Test: ', RF_clf.score(X_test, y_test))"
   ]
  },
  {
   "cell_type": "markdown",
   "metadata": {},
   "source": [
    "### 11.3. AdaBoost"
   ]
  },
  {
   "cell_type": "code",
   "execution_count": 796,
   "metadata": {},
   "outputs": [
    {
     "name": "stdout",
     "output_type": "stream",
     "text": [
      "DT ADA boosting classifier:\n",
      "     \ttrain accuracy: 0.63\n",
      "     \ttest accuracy: 0.63\n",
      "                 precision    recall  f1-score   support\n",
      "\n",
      "       Adoption       0.59      0.94      0.72      3273\n",
      "           Died       0.00      0.00      0.00        67\n",
      "     Euthanasia       0.00      0.00      0.00       455\n",
      "Return_to_owner       0.48      0.20      0.28      1425\n",
      "       Transfer       0.76      0.59      0.67      2794\n",
      "\n",
      "    avg / total       0.59      0.63      0.58      8014\n",
      "\n"
     ]
    }
   ],
   "source": [
    "X = outcomes2.drop('OutcomeType', axis=1)\n",
    "y = outcomes2.OutcomeType\n",
    "cols = [col for col in list(X.columns) if col != 'Named']\n",
    "X = pd.get_dummies(X, columns=cols)\n",
    "X_train, X_test, y_train, y_test = split(X, y, train_size=0.7, random_state=4014)\n",
    "\n",
    "clf_base = DecisionTreeClassifier(max_depth=3)\n",
    "clf_adaboost = AdaBoostClassifier(base_estimator=clf_base, n_estimators=200, learning_rate=0.01)\n",
    "clf_adaboost.fit(X_train, y_train)\n",
    "\n",
    "print(\"{:3} classifier:\\n \\\n",
    "    \\ttrain accuracy: {:.4f}\\n \\\n",
    "    \\ttest accuracy: {:.4f}\"\\\n",
    "    .format('DT ADA boosting', \n",
    "            clf_adaboost.score(X_train, y_train), \n",
    "            clf_adaboost.score(X_test, y_test)))\n",
    "print(classification_report(y_test, clf_adaboost.predict(X_test)))"
   ]
  },
  {
   "cell_type": "markdown",
   "metadata": {},
   "source": [
    "### 11.4. Gradient Boosting"
   ]
  },
  {
   "cell_type": "code",
   "execution_count": 797,
   "metadata": {},
   "outputs": [
    {
     "name": "stdout",
     "output_type": "stream",
     "text": [
      "DT gradient boosting classifier:\n",
      "     \ttrain accuracy: 0.6433\n",
      "     \ttest accuracy: 0.6373\n",
      "                 precision    recall  f1-score   support\n",
      "\n",
      "       Adoption       0.64      0.83      0.73      3273\n",
      "           Died       0.00      0.00      0.00        67\n",
      "     Euthanasia       0.66      0.05      0.10       455\n",
      "Return_to_owner       0.47      0.43      0.45      1425\n",
      "       Transfer       0.72      0.63      0.67      2794\n",
      "\n",
      "    avg / total       0.63      0.64      0.61      8014\n",
      "\n"
     ]
    }
   ],
   "source": [
    "X = outcomes2.drop('OutcomeType', axis=1)\n",
    "y = outcomes2.OutcomeType\n",
    "cols = [col for col in list(X.columns) if col != 'Named']\n",
    "X = pd.get_dummies(X, columns=cols)\n",
    "X_train, X_test, y_train, y_test = split(X, y, train_size=0.7, random_state=4014)\n",
    "\n",
    "clf_GB = GradientBoostingClassifier(max_depth=3, n_estimators=200, learning_rate=0.01)\n",
    "clf_GB.fit(X_train, y_train)\n",
    "\n",
    "print(\"{:3} classifier:\\n \\\n",
    "    \\ttrain accuracy: {:.4f}\\n \\\n",
    "    \\ttest accuracy: {:.4f}\"\\\n",
    "    .format('DT gradient boosting', \n",
    "            clf_GB.score(X_train, y_train), \n",
    "            clf_GB.score(X_test, y_test)))\n",
    "print(classification_report(y_test, clf_GB.predict(X_test)))"
   ]
  },
  {
   "cell_type": "markdown",
   "metadata": {},
   "source": [
    "## 12. Summary"
   ]
  },
  {
   "cell_type": "markdown",
   "metadata": {},
   "source": [
    "Along the way, I've tried to manipulate the data in several ways, especially regarding the features that I've added to the dataset in part1 of the project (dogs features):\n",
    "\n",
    "- Leaving these features as-is (with values 1-5 and 999 for the missing data)\n",
    "- Converting the 999 values to median values of each feature\n",
    "- Filtering out the 999 values\n",
    "- Categorizing these features\n",
    "\n",
    "I also tried to apply Scaling were I thought that might improve the result.\n",
    "\n",
    "In addition, I applied all the classification models that we've learned in the course, trying to find the best hyperparameters for each model.\n",
    "\n",
    "The best score I've reached - while using the Voting method - was **0.6451** (as shown above, applying the model on the Cats portion of the dataset provided us with a higher score)."
   ]
  }
 ],
 "metadata": {
  "kernelspec": {
   "display_name": "Python 3",
   "language": "python",
   "name": "python3"
  },
  "language_info": {
   "codemirror_mode": {
    "name": "ipython",
    "version": 3
   },
   "file_extension": ".py",
   "mimetype": "text/x-python",
   "name": "python",
   "nbconvert_exporter": "python",
   "pygments_lexer": "ipython3",
   "version": "3.6.5"
  }
 },
 "nbformat": 4,
 "nbformat_minor": 2
}
