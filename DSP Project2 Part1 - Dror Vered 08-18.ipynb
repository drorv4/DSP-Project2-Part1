{
 "cells": [
  {
   "cell_type": "markdown",
   "metadata": {},
   "source": [
    "# Project 2 - Shelter Animal Outcomes\n",
    "\n",
    "\n",
    "## Submitted by: Dror Vered\n",
    "\n",
    "### June 2018\n",
    "\n",
    "The goal of this project is to predict the outcome of the dogs and the cats as they leave the Austin Animal Center.\n",
    "These outcomes include: Adoption, Died, Euthanasia, Return to owner, and Transfer.\n",
    "\n",
    "### Part 1:\n",
    "Understand and analyze the problem, inquire the data, perform data visualization, provide insights and plan the next stages.\n",
    "\n",
    "-----------------------------------------------------------------------------------------------------------------------------"
   ]
  },
  {
   "cell_type": "markdown",
   "metadata": {},
   "source": [
    "### My Work Plan:\n",
    "\n",
    "1. After reading the \"train\" file, I'll get familiar with the data and its features.\n",
    "2. I'll perform some general analysis and visualization regarding OutcomeTypes.\n",
    "3. Exploring the features:\n",
    "   1. For each given feature, I will:\n",
    "      - Look for empty and special values. \n",
    "        - Are they important? (e.g. do empty pets' names relate somehow to OutcomeType?)\n",
    "        - should they be ignored/removed/updated?\n",
    "      - Explore and analyze the given features\n",
    "   2. As of now, it seems that there are features that are missing and could have been of use:\n",
    "      - Typical characteristics of the pet, such as: size, level of friendliness, ability to be train etc. \n",
    "        Based on the pet's breed, I will try to obtain some data from external sources.\n",
    "      - Condition of pet upon arriving to shelter, level of training when entering the shelter (espcially with dogs),\n",
    "        and reason/circumstance of arrival to shelter. I guess this data will remain unknown.\n",
    "4. Summary:\n",
    "   - Summary of the features added to the given data structure\n",
    "   - Summary of insights based on given and collected data\n",
    "   - Plans for the next part of the project"
   ]
  },
  {
   "cell_type": "code",
   "execution_count": 1,
   "metadata": {},
   "outputs": [],
   "source": [
    "import pandas as pd\n",
    "%matplotlib inline"
   ]
  },
  {
   "cell_type": "markdown",
   "metadata": {},
   "source": [
    "## 1. Read the train file and get familiar with the data. Show unique values in each column"
   ]
  },
  {
   "cell_type": "code",
   "execution_count": 2,
   "metadata": {},
   "outputs": [],
   "source": [
    "outcomes = pd.read_csv('train.csv', index_col='AnimalID', parse_dates=['DateTime'])\n",
    "# outcomes.head()"
   ]
  },
  {
   "cell_type": "code",
   "execution_count": 3,
   "metadata": {},
   "outputs": [],
   "source": [
    "# outcomes.describe()"
   ]
  },
  {
   "cell_type": "code",
   "execution_count": 4,
   "metadata": {},
   "outputs": [],
   "source": [
    "animal_types = outcomes.groupby('AnimalType')['DateTime'].count()\n",
    "# animal_types"
   ]
  },
  {
   "cell_type": "markdown",
   "metadata": {},
   "source": [
    "## 2. Perform some general analysis and visualization regarding OutcomeTypes"
   ]
  },
  {
   "cell_type": "code",
   "execution_count": 5,
   "metadata": {},
   "outputs": [],
   "source": [
    "type_value_counts = outcomes.OutcomeType.value_counts()"
   ]
  },
  {
   "cell_type": "code",
   "execution_count": 6,
   "metadata": {},
   "outputs": [],
   "source": [
    "# print(type_value_counts)\n",
    "# type_value_counts.plot(kind='bar')"
   ]
  },
  {
   "cell_type": "code",
   "execution_count": 7,
   "metadata": {},
   "outputs": [],
   "source": [
    "# outcomes.OutcomeType.value_counts(normalize=True)"
   ]
  },
  {
   "cell_type": "markdown",
   "metadata": {},
   "source": [
    "### Insight:\n",
    "According to the description of the case in the Kaggle web page, the outcome of more than 35% of pets arriving to shelters\n",
    "in the US every year is death (2.7 milion out of 7.6 million). However, strangely enough, according to the dataset of intake\n",
    "information received from the AAC (Austin Animal Center), the percent of dead and euthanized dogs and cats (along 2.5 years)\n",
    "is only 6.5% (5.8% Euthanasia + 0.7% Died ,752 out of 26,729 ).\n",
    "\n",
    "Trying to explain the above finding, I'd like to suggest that the \"final outcome\" of many transferred pets might be\n",
    "\"not as good as expected\"."
   ]
  },
  {
   "cell_type": "code",
   "execution_count": 8,
   "metadata": {},
   "outputs": [],
   "source": [
    "# outcomes.groupby(['AnimalType', 'OutcomeType'])['Breed'].count()"
   ]
  },
  {
   "cell_type": "code",
   "execution_count": 9,
   "metadata": {},
   "outputs": [],
   "source": [
    "# Looking separately at Dogs and Cats:\n",
    "\n",
    "dogs_outcomes = outcomes[outcomes.AnimalType == 'Dog']\n",
    "cats_outcomes = outcomes[outcomes.AnimalType == 'Cat']"
   ]
  },
  {
   "cell_type": "code",
   "execution_count": 10,
   "metadata": {},
   "outputs": [],
   "source": [
    "dogs_outcomes_grpby_type = dogs_outcomes.groupby(['OutcomeType'])['Breed'].count()\n",
    "# dogs_outcomes_grpby_type.plot(kind='bar', title='Dogs Outcomes')"
   ]
  },
  {
   "cell_type": "code",
   "execution_count": 11,
   "metadata": {},
   "outputs": [],
   "source": [
    "cats_outcomes_grpby_type = cats_outcomes.groupby(['OutcomeType'])['Breed'].count()\n",
    "# cats_outcomes_grpby_type.plot(kind='bar', title='Cats Outcomes')"
   ]
  },
  {
   "cell_type": "code",
   "execution_count": 12,
   "metadata": {},
   "outputs": [],
   "source": [
    "animal_type_crstb = pd.crosstab(outcomes.OutcomeType, outcomes.AnimalType, normalize='columns')\n",
    "# animal_type_crstb"
   ]
  },
  {
   "cell_type": "code",
   "execution_count": 13,
   "metadata": {},
   "outputs": [],
   "source": [
    "# animal_type_crstb.plot(kind='bar', title='Outcomes by Animal Type')"
   ]
  },
  {
   "cell_type": "markdown",
   "metadata": {},
   "source": [
    "### Insights:\n",
    "- The percentage of dogs being adopted is a bit higher than cats\n",
    "- The percentage of RTO dogs is *much* higher than cats\n",
    "- The percentage of cats being Euthanaised, Transferred or Died is higher than dogs"
   ]
  },
  {
   "cell_type": "markdown",
   "metadata": {},
   "source": [
    "## 3. For each given feature:\n",
    "    a. Looking for empty and special values\n",
    "    b. Exploring and analyzing the given features"
   ]
  },
  {
   "cell_type": "code",
   "execution_count": 14,
   "metadata": {},
   "outputs": [],
   "source": [
    "# outcomes.info()"
   ]
  },
  {
   "cell_type": "markdown",
   "metadata": {},
   "source": [
    "**The following features have empty values:**\n",
    "- *Name:* there are 26,729-19,038=7,691 pets with no name. I assume these animals were picked-up from the street, or maybe they were born in the shelter and were not given a name.\n",
    "  I will later inquire whether there is a correlation between the outcome of the pet and the fact that its name is uknown.\n",
    "- *OutcomeSubtype:* there are 26,729-13,117=13,612 empty values. However, most of these might be a matter of little importance. I will explore on that later on.\n",
    "- *SexuponOutcome:* there is only 1 empty value (negligible)\n",
    "- *AgeuponOutcome:* there are 26,729-26,711=18 empty values. Although this is an important feature, the amount of these null values is negligible."
   ]
  },
  {
   "cell_type": "markdown",
   "metadata": {},
   "source": [
    "## 3.1. Name:"
   ]
  },
  {
   "cell_type": "markdown",
   "metadata": {},
   "source": [
    "### 3.1.a. looking for \"special\" names (such as \"unknown\" or \"John Doe\")"
   ]
  },
  {
   "cell_type": "code",
   "execution_count": 15,
   "metadata": {},
   "outputs": [],
   "source": [
    "# print(outcomes.Name.nunique())\n",
    "# outcomes.Name.value_counts(normalize=True).head(10)"
   ]
  },
  {
   "cell_type": "markdown",
   "metadata": {},
   "source": [
    "*It seems that there's no significant group of pets that has a \"special name\"*"
   ]
  },
  {
   "cell_type": "code",
   "execution_count": 16,
   "metadata": {},
   "outputs": [],
   "source": [
    "# print(len(outcomes[outcomes.Name=='Unknown']))\n",
    "# print(len(outcomes[outcomes.Name=='John Doe']))"
   ]
  },
  {
   "cell_type": "markdown",
   "metadata": {},
   "source": [
    "*It seems that there are no special names such as the above*"
   ]
  },
  {
   "cell_type": "code",
   "execution_count": 17,
   "metadata": {},
   "outputs": [],
   "source": [
    "# I will now convert empty names to \"Unknown\", for later use.\n",
    "\n",
    "outcomes.Name.fillna(value='Unknown', inplace=True)"
   ]
  },
  {
   "cell_type": "code",
   "execution_count": 18,
   "metadata": {},
   "outputs": [],
   "source": [
    "# outcomes.Name.value_counts().head()"
   ]
  },
  {
   "cell_type": "markdown",
   "metadata": {},
   "source": [
    "### 3.1.b. Exploring and analyzing the Name feature\n",
    "\n",
    "- Do 'Unknown' pets' names relate somehow to OutcomeType?\n",
    "- To explore this question, I'll now add a column called 'Named' (0=\"unknown\", 1=otherwise)"
   ]
  },
  {
   "cell_type": "code",
   "execution_count": 19,
   "metadata": {},
   "outputs": [],
   "source": [
    "outcomes['Named'] = outcomes.Name.apply(lambda name: 0 if name == 'Unknown' else 1)\n",
    "# outcomes.head()"
   ]
  },
  {
   "cell_type": "code",
   "execution_count": 20,
   "metadata": {},
   "outputs": [],
   "source": [
    "type_named_crstb = pd.crosstab(outcomes.OutcomeType, outcomes.Named)\n",
    "# type_named_crstb"
   ]
  },
  {
   "cell_type": "code",
   "execution_count": 21,
   "metadata": {},
   "outputs": [],
   "source": [
    "# visualization - bar chart:\n",
    "\n",
    "# type_named_crstb.plot(kind='bar', title='OutcomeTypes of Named/UnNamed animals')"
   ]
  },
  {
   "cell_type": "code",
   "execution_count": 22,
   "metadata": {},
   "outputs": [],
   "source": [
    "# another way to show it - stacked bar:\n",
    "\n",
    "# type_named_crstb.plot(kind='bar', stacked=True, title='OutcomeTypes of Named/UnNamed animals')"
   ]
  },
  {
   "cell_type": "code",
   "execution_count": 23,
   "metadata": {},
   "outputs": [],
   "source": [
    "# normalize over each row\n",
    "\n",
    "type_named_crstb = pd.crosstab(outcomes.OutcomeType, outcomes.Named, normalize='index')\n",
    "# type_named_crstb"
   ]
  },
  {
   "cell_type": "code",
   "execution_count": 24,
   "metadata": {},
   "outputs": [],
   "source": [
    "# type_named_crstb.plot(kind='bar', stacked=True, title='OutcomeTypes of Named/UnNamed animals (Percent Stacked)')"
   ]
  },
  {
   "cell_type": "code",
   "execution_count": 25,
   "metadata": {
    "scrolled": true
   },
   "outputs": [],
   "source": [
    "# normalize over each column\n",
    "\n",
    "# pd.crosstab(outcomes.OutcomeType, outcomes.Named, margins=True, normalize='columns')"
   ]
  },
  {
   "cell_type": "markdown",
   "metadata": {},
   "source": [
    "# Insights:\n",
    "- 84% of adopted animals, are named\n",
    "- Almost 97% of animals which are Returned To their Owners (RTO), are named\n",
    "- 61% of died animals, are un-named\n",
    "- un-named animals tend to be euthanised and transferred more than named animals\n",
    "- 47% of named animals are adopted, weheras the rate of total adoptions is only 40%\n",
    "- 24% of named animals are RTO, weheras the rate of total RTO is only 18%\n",
    "- Likewize, the percentages of named animals which are Died/Euthanaised/Transferred are lower than total percentages"
   ]
  },
  {
   "cell_type": "markdown",
   "metadata": {},
   "source": [
    "## 3.2. DateTime:"
   ]
  },
  {
   "cell_type": "markdown",
   "metadata": {},
   "source": [
    "### 3.2.a. Empty/special values:\n",
    "\n",
    "As shown above, there are no empty values in this column, and all dates are in the same format (yyyy/dd/mm hh:mm:ss)"
   ]
  },
  {
   "cell_type": "markdown",
   "metadata": {},
   "source": [
    "### 3.2.b Exploring and analyzing the DateTime feature\n",
    "\n",
    "Although the header of the column doesn't say \"OutcomeDateTime\", as in the case of all other \"outcome\" features, by looking\n",
    "at the order of the DateTimes values, it is noticeable that they are not sorted like the AnimalIDs (which are given during\n",
    "the intakes). That indicates that the DateTime values are not the entrances dates, but the outcomes dates.\n",
    "As such, it seems that this feature will not be of use when trying to predict the next outcome. However it might suggests\n",
    "that the shelter may put some extra effort during certain periods of times during the year (weekends? holidays?...)\n",
    "\n",
    "What I'm going to look for, is whether the 'volume of activity' of the shelter is somehow related to:\n",
    "\n",
    "    i.   specific day(s) of the week\n",
    "    ii.  specific season(s)/month(s)\n",
    "    iii. holidays"
   ]
  },
  {
   "cell_type": "markdown",
   "metadata": {},
   "source": [
    "#### i. specific day(s) of the week"
   ]
  },
  {
   "cell_type": "code",
   "execution_count": 26,
   "metadata": {},
   "outputs": [],
   "source": [
    "# To explore this issue, I'll add the column 'DayOfWeek', as follows:\n",
    "\n",
    "outcomes['DayOfWeek'] = outcomes['DateTime'].dt.weekday_name"
   ]
  },
  {
   "cell_type": "code",
   "execution_count": 27,
   "metadata": {},
   "outputs": [],
   "source": [
    "days = ['Monday', 'Tuesday', 'Wednesday', 'Thursday', 'Friday', 'Saturday', 'Sunday']\n",
    "outcomes['DayOfWeek'] = pd.Categorical(outcomes['DayOfWeek'], categories=days, ordered=True)"
   ]
  },
  {
   "cell_type": "code",
   "execution_count": 28,
   "metadata": {},
   "outputs": [],
   "source": [
    "# outcomes.head()"
   ]
  },
  {
   "cell_type": "code",
   "execution_count": 29,
   "metadata": {},
   "outputs": [],
   "source": [
    "OutcomeType_DOW_crstb = pd.crosstab(outcomes.DayOfWeek.sort_values(), outcomes.OutcomeType, normalize='columns')\n",
    "# OutcomeType_DOW_crstb"
   ]
  },
  {
   "cell_type": "code",
   "execution_count": 30,
   "metadata": {},
   "outputs": [],
   "source": [
    "# OutcomeType_DOW_crstb.plot(kind='bar', title='Outcomes by Days of Week', figsize=(8,7))"
   ]
  },
  {
   "cell_type": "code",
   "execution_count": 31,
   "metadata": {},
   "outputs": [],
   "source": [
    "# Another type of visualization: Heatmap\n",
    "\n",
    "import seaborn as sns"
   ]
  },
  {
   "cell_type": "code",
   "execution_count": 32,
   "metadata": {},
   "outputs": [],
   "source": [
    "# sns.heatmap(OutcomeType_DOW_crstb, linewidths=0.5, annot=True, center=0.3)"
   ]
  },
  {
   "cell_type": "markdown",
   "metadata": {},
   "source": [
    "### Insight:\n",
    "- Not surprisingly, it seems that most adoptions take place during the weekends. Also, it seems that animals are euthanaised\n",
    "  mostly on Mondays, supposedly after they had not been adopted during the passed weekend.\n",
    "- As I mentioned above, this feature will not contribute for predicting the next outcome, however it might suggests that the\n",
    "  shelter may put some extra effort during weekends, as people tend to adopt the animals on Sat and Sun."
   ]
  },
  {
   "cell_type": "markdown",
   "metadata": {},
   "source": [
    "#### ii. seasons\n",
    "To make it simple, I'll use the attribute 'quarter' (1 = Jan to Mar, 2 = Apr to Jun, etc.)"
   ]
  },
  {
   "cell_type": "code",
   "execution_count": 33,
   "metadata": {},
   "outputs": [],
   "source": [
    "# I'll add the column 'Quarter' as follows:\n",
    "\n",
    "outcomes['Quarter'] = outcomes['DateTime'].dt.quarter"
   ]
  },
  {
   "cell_type": "code",
   "execution_count": 34,
   "metadata": {},
   "outputs": [],
   "source": [
    "# outcomes.head()"
   ]
  },
  {
   "cell_type": "code",
   "execution_count": 35,
   "metadata": {},
   "outputs": [],
   "source": [
    "type_Q_crstb = pd.crosstab(outcomes.OutcomeType, outcomes.Quarter, margins=True, normalize='index')"
   ]
  },
  {
   "cell_type": "code",
   "execution_count": 36,
   "metadata": {},
   "outputs": [],
   "source": [
    "# print(type_Q_crstb)\n",
    "# sns.heatmap(type_Q_crstb, linewidths=0.5, annot=True, center=0.3)"
   ]
  },
  {
   "cell_type": "markdown",
   "metadata": {},
   "source": [
    "### Insight:\n",
    "it seems that more activites take place during Q4, and less during Q1."
   ]
  },
  {
   "cell_type": "markdown",
   "metadata": {},
   "source": [
    "#### iii. holidays\n",
    "\n",
    "I'll try to explore whether people tend to adopt animals as a present for the holidays. It will probably not help predict\n",
    "the outcome of the next dog/cat, but it might indicate that the shelter sould put some extra effort before holidays.\n",
    "\n",
    "For that purpose, I built a csv file with most of the holidays that took place during the relevant period (Oct-13 to Mar-16)."
   ]
  },
  {
   "cell_type": "code",
   "execution_count": 37,
   "metadata": {},
   "outputs": [],
   "source": [
    "holidays = pd.read_csv('austin holidays.csv', sep=',', parse_dates=['HolidayDate'], encoding='latin-1')"
   ]
  },
  {
   "cell_type": "code",
   "execution_count": 38,
   "metadata": {},
   "outputs": [],
   "source": [
    "# holidays.info()"
   ]
  },
  {
   "cell_type": "code",
   "execution_count": 39,
   "metadata": {},
   "outputs": [],
   "source": [
    "# holidays.head()"
   ]
  },
  {
   "cell_type": "code",
   "execution_count": 40,
   "metadata": {},
   "outputs": [],
   "source": [
    "def before_holiday(date_time):\n",
    "    '''\n",
    "    Finds out whether a given date falls 5 days or less before a holiday (an adoption that took place up to 5 days before\n",
    "    the holiday, is considered here as a \"holiday gift\").\n",
    "    If yes, returns the holiday's name, otherwise None.\n",
    "    '''\n",
    "    i = 0\n",
    "    for holiday_date in holidays.HolidayDate:\n",
    "        dates_diff = holiday_date - date_time\n",
    "        if dates_diff.days > 5:  \n",
    "            return 'No Holiday' \n",
    "        if dates_diff.days >= 0:\n",
    "            return holidays.iloc[i,0]\n",
    "        i += 1\n",
    "    return 'No Holiday'\n",
    "\n",
    "outcomes['Holiday'] = outcomes['DateTime'].apply(before_holiday)"
   ]
  },
  {
   "cell_type": "code",
   "execution_count": 41,
   "metadata": {},
   "outputs": [],
   "source": [
    "# print(outcomes[outcomes.OutcomeType == 'Adoption'].DateTime.count())\n",
    "# outcomes[outcomes.OutcomeType == 'Adoption'].Holiday.value_counts(dropna=False)"
   ]
  },
  {
   "cell_type": "code",
   "execution_count": 42,
   "metadata": {},
   "outputs": [],
   "source": [
    "# outcomes[outcomes.OutcomeType == 'Adoption'].Holiday.value_counts(dropna=False, normalize=True).head()"
   ]
  },
  {
   "cell_type": "code",
   "execution_count": 43,
   "metadata": {},
   "outputs": [],
   "source": [
    "# outcomes[outcomes.Holiday != 'No Holiday'].Holiday.value_counts().plot(kind='bar', title='Adoptions before Holidays')"
   ]
  },
  {
   "cell_type": "markdown",
   "metadata": {},
   "source": [
    "### Insight: \n",
    "about 20% of all adoptions take place 5 days or less before a holiday (mostly before Christmas)"
   ]
  },
  {
   "cell_type": "markdown",
   "metadata": {},
   "source": [
    "## 3.3 OutcomeSubtype:"
   ]
  },
  {
   "cell_type": "markdown",
   "metadata": {},
   "source": [
    "As of now, it is not clear whether this feature is important for us, or not. I will now explore this feature.\n",
    "\n",
    "### 3.3.a. Empty/special values:\n",
    "As shown above, there are many empty values in this column. However, this is not much of a problem."
   ]
  },
  {
   "cell_type": "markdown",
   "metadata": {},
   "source": [
    "### 3.3.b Exploring and analyzing the OutcomeSubtype feature"
   ]
  },
  {
   "cell_type": "code",
   "execution_count": 44,
   "metadata": {},
   "outputs": [],
   "source": [
    "subtype_type_crosstab = pd.crosstab(outcomes.OutcomeSubtype, outcomes.OutcomeType, dropna=False)\n",
    "# subtype_type_crosstab"
   ]
  },
  {
   "cell_type": "code",
   "execution_count": 45,
   "metadata": {},
   "outputs": [],
   "source": [
    "# sns.heatmap(subtype_type_crosstab, linewidths=0.5, annot=True, fmt=\"d\", center=8000)"
   ]
  },
  {
   "cell_type": "markdown",
   "metadata": {},
   "source": [
    "### Insights:\n",
    "- It seems that if an animal is suffering, aggressive, bad-behaving, in Rabies Risk or has a medical problem - it will be\n",
    "  euthanaized.\n",
    "- Main subtypes of 'Transfer' are: 'Partner' and 'SCRP':\n",
    "    - Partner: is probably another shelter for pets\n",
    "    - SCRP: just by searching the web, I couldn't find what was the meaning of this abbreviation. However, by exploring the data furthermore, I assume that it means: \"Street Cats Rescue Program\". Here's why: \n",
    "          \n",
    "          i. SCRP is relevant only for cats (as shown below)\n",
    "          ii. Almost all SCRP rows are relevant for pets with no name (as shown below) ==> i.e. street cats"
   ]
  },
  {
   "cell_type": "code",
   "execution_count": 46,
   "metadata": {},
   "outputs": [],
   "source": [
    "# i. The following output clearly shows that SCRP is relevant only for cats\n",
    "# pd.crosstab(outcomes.OutcomeSubtype, outcomes.AnimalType)"
   ]
  },
  {
   "cell_type": "code",
   "execution_count": 47,
   "metadata": {},
   "outputs": [],
   "source": [
    "# ii. The following output shows that 96% of SCRP samples are relevant for pets with no name\n",
    "# outcomes[outcomes.OutcomeSubtype == 'SCRP'].Name.value_counts(normalize=True, dropna=False).head()"
   ]
  },
  {
   "cell_type": "markdown",
   "metadata": {},
   "source": [
    "## 3.4 SexuponOutcome:"
   ]
  },
  {
   "cell_type": "markdown",
   "metadata": {},
   "source": [
    "### 3.4.a. Empty/special values:\n",
    "\n",
    "As mentioned earlier, there's one empty value in this feature. I'll now replace it with 'Unknown' value."
   ]
  },
  {
   "cell_type": "code",
   "execution_count": 48,
   "metadata": {},
   "outputs": [],
   "source": [
    "outcomes.SexuponOutcome.fillna(value='Unknown', inplace=True)"
   ]
  },
  {
   "cell_type": "markdown",
   "metadata": {},
   "source": [
    "### 3.4.b Exploring and analyzing the SexuponOutcome feature\n",
    "\n",
    "It is pretty obvious that this feature actually consists of two separate important features:\n",
    "\n",
    "- Sex of pet (Male/Female)\n",
    "- Neuter status (Neutered, Spayed, or Intact)\n",
    "\n",
    "I will deal with this separation as follows:"
   ]
  },
  {
   "cell_type": "code",
   "execution_count": 49,
   "metadata": {},
   "outputs": [],
   "source": [
    "# outcomes.SexuponOutcome.value_counts()"
   ]
  },
  {
   "cell_type": "markdown",
   "metadata": {},
   "source": [
    "It seems that more than a thousand pets have \"unknown\" gender and/or it is unknown whether or not they were spayed/neutered"
   ]
  },
  {
   "cell_type": "code",
   "execution_count": 50,
   "metadata": {},
   "outputs": [],
   "source": [
    "# pd.crosstab(outcomes.OutcomeType, outcomes.SexuponOutcome)"
   ]
  },
  {
   "cell_type": "markdown",
   "metadata": {},
   "source": [
    "### Insight: \n",
    "Amazingly, NONE of the animals that their SexuponOutcome is \"Unknown\" were adopted!\n",
    "Only few of them were RTO."
   ]
  },
  {
   "cell_type": "markdown",
   "metadata": {},
   "source": [
    "I will now create 2 new separated features: Sex of pet (Male/Female) and Neuter status (Neutered, Spayed, or Intact).\n",
    "\n",
    "The values of the new column 'NeuterStatus' will reflect the SexuponOutcome values as follows:\n",
    "- the values 'Intact Female' and 'Intact Male' will be mapped to the new value 'Intact'\n",
    "- the values 'Spayed Female' and 'Neutered Male' will be mapped to the new value 'N/S' (I see no point separating these two)\n",
    "- the value 'Unknown' will be mapped as-is"
   ]
  },
  {
   "cell_type": "code",
   "execution_count": 51,
   "metadata": {},
   "outputs": [],
   "source": [
    "outcome_sex_map_dict = {\n",
    "    'Intact Female': 'Female',\n",
    "    'Intact Male': 'Male',\n",
    "    'Spayed Female': 'Female',\n",
    "    'Neutered Male': 'Male',\n",
    "    'Unknown': 'Unknown'    \n",
    "}\n",
    "\n",
    "outcome_neuter_map_dict = {\n",
    "    'Intact Female': 'Intact',\n",
    "    'Intact Male': 'Intact',\n",
    "    'Spayed Female': 'N/S',\n",
    "    'Neutered Male': 'N/S',\n",
    "    'Unknown': 'Unknown'    \n",
    "}\n",
    "\n",
    "outcomes['Sex'] = outcomes.SexuponOutcome.replace(outcome_sex_map_dict)\n",
    "outcomes['NeuterStatus'] = outcomes.SexuponOutcome.replace(outcome_neuter_map_dict)\n",
    "# outcomes.head()"
   ]
  },
  {
   "cell_type": "code",
   "execution_count": 52,
   "metadata": {},
   "outputs": [],
   "source": [
    "# pd.crosstab(outcomes.OutcomeType, outcomes.NeuterStatus)"
   ]
  },
  {
   "cell_type": "code",
   "execution_count": 53,
   "metadata": {},
   "outputs": [],
   "source": [
    "# from the OutcomeType direction (normalazed by rows)\n",
    "# sns.heatmap(pd.crosstab(outcomes.OutcomeType, outcomes.NeuterStatus, normalize='index'), linewidths=0.5, annot=True, center=1)"
   ]
  },
  {
   "cell_type": "markdown",
   "metadata": {},
   "source": [
    "### Insights regarding NeuterStatus:\n",
    "- 97% of adopted pets were spayed/neutered\n",
    "- 83% of RTO pets were spayed/neutered\n",
    "- 69% of Died pets and 56% of Euthanaised pets were Intact"
   ]
  },
  {
   "cell_type": "code",
   "execution_count": 54,
   "metadata": {},
   "outputs": [],
   "source": [
    "# from the N/S status direction (normalazed by columns)\n",
    "# sns.heatmap(pd.crosstab(outcomes.OutcomeType, outcomes.NeuterStatus, normalize='columns'), \\\n",
    "#             linewidths=0.5, annot=True, center=1)"
   ]
  },
  {
   "cell_type": "markdown",
   "metadata": {},
   "source": [
    "### More insights regarding NeuterStatus:\n",
    "- 77% (56 + 21) of N/S pets ended well (either adopted or returned to their owners)\n",
    "- 69% of Intact pets were transferred\n",
    "- 87% of pets whose neutered/spayed status was not clear, were transferred. None of them were adopted"
   ]
  },
  {
   "cell_type": "code",
   "execution_count": 55,
   "metadata": {},
   "outputs": [],
   "source": [
    "# pd.crosstab(outcomes.OutcomeType, outcomes.Sex, margins=True)"
   ]
  },
  {
   "cell_type": "code",
   "execution_count": 56,
   "metadata": {},
   "outputs": [],
   "source": [
    "# pd.crosstab(outcomes.OutcomeType, outcomes.Sex, margins=True, normalize='index')"
   ]
  },
  {
   "cell_type": "markdown",
   "metadata": {},
   "source": [
    "### Insights regarding Sex:\n",
    "- It seems that adoption is not related to the sex of the pet.\n",
    "- Males Die and Euthanaised more than females.\n",
    "- Males RTO more than females"
   ]
  },
  {
   "cell_type": "markdown",
   "metadata": {},
   "source": [
    "## 3.5 AgeuponOutcome:"
   ]
  },
  {
   "cell_type": "markdown",
   "metadata": {},
   "source": [
    "### 3.5.a. Empty/special values:"
   ]
  },
  {
   "cell_type": "code",
   "execution_count": 57,
   "metadata": {},
   "outputs": [
    {
     "name": "stdout",
     "output_type": "stream",
     "text": [
      "44\n"
     ]
    }
   ],
   "source": [
    "print(outcomes.AgeuponOutcome.nunique())\n",
    "# outcomes.AgeuponOutcome.value_counts(dropna=False).tail(10)"
   ]
  },
  {
   "cell_type": "markdown",
   "metadata": {},
   "source": [
    "There are 18 empty values, and 22 pets with age '0 years'. "
   ]
  },
  {
   "cell_type": "code",
   "execution_count": 58,
   "metadata": {},
   "outputs": [],
   "source": [
    "# outcomes[outcomes.AgeuponOutcome == '0 years'].groupby(['AnimalType', 'OutcomeType'])['Name'].count()"
   ]
  },
  {
   "cell_type": "markdown",
   "metadata": {},
   "source": [
    "Most of the '0 years' pets are cats. Most of them were transferred (none of them were adopted)."
   ]
  },
  {
   "cell_type": "code",
   "execution_count": 59,
   "metadata": {},
   "outputs": [],
   "source": [
    "# outcomes[pd.isna(outcomes.AgeuponOutcome)].groupby(['AnimalType', 'OutcomeType'])['Name'].count()"
   ]
  },
  {
   "cell_type": "markdown",
   "metadata": {},
   "source": [
    "Most of the None values are cats. Most of them were transferred (none of them were adopted).\n",
    "\n",
    "Since the number of empty values of AgeuponOutcome is very small, I'll drop these samples from the dataframe."
   ]
  },
  {
   "cell_type": "code",
   "execution_count": 60,
   "metadata": {},
   "outputs": [],
   "source": [
    "outcomes.dropna(subset=['AgeuponOutcome'], inplace=True)"
   ]
  },
  {
   "cell_type": "markdown",
   "metadata": {},
   "source": [
    "### 3.5.b Exploring and analyzing the AgeuponOutcome feature\n",
    "\n",
    "It is noticeable that the values of this feature are presented in various formats: day(s) / week(s) / month(s) / year(s).\n",
    "\n",
    "Furthermore, since there are lots of \"ages\" in the dataset (44 to be precise, as shown above), I will \"group\" them into 7\n",
    "\"life stages\", as follows."
   ]
  },
  {
   "cell_type": "code",
   "execution_count": 61,
   "metadata": {},
   "outputs": [],
   "source": [
    "def calc_life_stage(age):\n",
    "    '''\n",
    "    Returns a \"life stage\" to which a given age belongs.\n",
    "    The defined life stages are:\n",
    "        - neonatal:     birth - 4 weeks\n",
    "        - puppy/kitten: 1 month - 6 months\n",
    "        - junior:       7 months - 2 years\n",
    "        - prime:        3 - 6 years\n",
    "        - mature:       7 - 10 years\n",
    "        - senior:       11 - 14 years\n",
    "        - geriatric:    15+ years    \n",
    "    '''\n",
    "    try:\n",
    "        age_val = int(age[0:2])\n",
    "    except:\n",
    "        return 'Neonatal'        \n",
    "    if age_val == 0:\n",
    "        return 'Neonatal'\n",
    "    if 'day' in age or 'week' in age:\n",
    "        return 'Neonatal'\n",
    "    elif 'month' in age:\n",
    "        if age_val <= 6:\n",
    "            return 'Puppy/Kitten'\n",
    "        else:\n",
    "            return 'Junior'\n",
    "    elif 'year' in age:\n",
    "        if age_val <= 2:\n",
    "            return 'Junior'\n",
    "        elif age_val <= 6:\n",
    "            return 'Prime'\n",
    "        elif age_val <= 10:\n",
    "            return 'Mature'\n",
    "        elif age_val <= 14:\n",
    "            return 'Senior'\n",
    "        else:\n",
    "            return 'Geriatric'\n",
    "    else:\n",
    "        return 'Other'\n",
    "\n",
    "outcomes['LifeStage'] = outcomes['AgeuponOutcome'].apply(calc_life_stage)\n",
    "# outcomes.LifeStage.value_counts(dropna=False)"
   ]
  },
  {
   "cell_type": "code",
   "execution_count": 62,
   "metadata": {},
   "outputs": [],
   "source": [
    "# Converting LifeStage to a categorical and specifying an order on the categories (for using logical order)\n",
    "\n",
    "life_stages = ['Neonatal', 'Puppy/Kitten', 'Junior', 'Prime', 'Mature', 'Senior', 'Geriatric']\n",
    "outcomes['LifeStage'] = pd.Categorical(outcomes['LifeStage'], categories=life_stages, ordered=True)"
   ]
  },
  {
   "cell_type": "code",
   "execution_count": 63,
   "metadata": {},
   "outputs": [],
   "source": [
    "# pd.crosstab(outcomes.LifeStage.sort_values(), outcomes.OutcomeType)"
   ]
  },
  {
   "cell_type": "code",
   "execution_count": 64,
   "metadata": {},
   "outputs": [],
   "source": [
    "# Normalization by OutcomeType\n",
    "outcome_age_crstb = pd.crosstab(outcomes.LifeStage.sort_values(), outcomes.OutcomeType, normalize='columns')"
   ]
  },
  {
   "cell_type": "code",
   "execution_count": 65,
   "metadata": {
    "scrolled": true
   },
   "outputs": [],
   "source": [
    "# outcome_age_crstb"
   ]
  },
  {
   "cell_type": "code",
   "execution_count": 66,
   "metadata": {},
   "outputs": [],
   "source": [
    "# outcome_age_crstb.plot(kind='bar', title='Outcome Types by Life Stages', grid=True, figsize=(6,9), subplots=True)"
   ]
  },
  {
   "cell_type": "markdown",
   "metadata": {},
   "source": [
    "### Insights:\n",
    "- Adoption:\n",
    "    - Pets are not adopted until they're at least 1 month old. \n",
    "    - Pets are almost not adopted in the Mature stage or older\n",
    "    - Pets are mostly adopted when they're at the Puppy/Kitten stage. After that - as Juniors\n",
    "- RTO:\n",
    "    - Pets are returned to their owners mostly as Junior or Prime\n",
    "- Die:\n",
    "    - Pets mostly Die in the Neonatal and Puppy/Kitten stages. \n",
    "- Euthanasia:\n",
    "    - Pets mostly Eunathaised in the Junior and Prime stages"
   ]
  },
  {
   "cell_type": "code",
   "execution_count": 67,
   "metadata": {},
   "outputs": [],
   "source": [
    "# Normalization by LifeStage\n",
    "age_outcome_crstb = pd.crosstab(outcomes.OutcomeType, outcomes.LifeStage.sort_values(), normalize='columns', margins=True)"
   ]
  },
  {
   "cell_type": "code",
   "execution_count": 68,
   "metadata": {},
   "outputs": [],
   "source": [
    "# age_outcome_crstb"
   ]
  },
  {
   "cell_type": "code",
   "execution_count": 69,
   "metadata": {},
   "outputs": [],
   "source": [
    "# age_outcome_crstb.plot(kind='bar', title='Outcome Types by Life Stages', grid=True, figsize=(4,14), subplots=True)"
   ]
  },
  {
   "cell_type": "markdown",
   "metadata": {},
   "source": [
    "### Insights:\n",
    "- Neonatal:\n",
    "    - Pets are not adopted during their Neonatal period (as seen earlier) \n",
    "    - Being in the Neonatal life stage, there's almost 93% chance to be trasferred\n",
    "    - Chances to Die are high\n",
    "- Puppy/Kitten:\n",
    "    - As a Puppy/Kitten, there's 61% chance to be Adopted\n",
    "    - Chances to Die are also high\n",
    "- Junior:\n",
    "    - As a Junior, there's almost 40% chance to be Adopted; 34% chance to be transferred\n",
    "- Mature:\n",
    "    - As a Mature pet, there's 38% chance to be RTO\n",
    "- Senior:\n",
    "    - As a Senior, there's 45% chance to be RTO\n",
    "- Geriatric:\n",
    "    - As a Geriatric pet, there's 52% chance to be RTO, 24% to be Euthanaised and only 11% chance to be adopted"
   ]
  },
  {
   "cell_type": "markdown",
   "metadata": {},
   "source": [
    "Separating between Dogs and Cats"
   ]
  },
  {
   "cell_type": "code",
   "execution_count": 70,
   "metadata": {},
   "outputs": [],
   "source": [
    "dogs_outcomes = outcomes[outcomes.AnimalType == 'Dog']\n",
    "# pd.crosstab(dogs_outcomes.OutcomeType, dogs_outcomes.LifeStage, normalize='columns', margins=True). \\\n",
    "#             plot(kind='bar', title='Dogs - Life Stages by Outcome Types', grid=True, figsize=(6,4))"
   ]
  },
  {
   "cell_type": "code",
   "execution_count": 71,
   "metadata": {},
   "outputs": [],
   "source": [
    "cats_outcomes = outcomes[outcomes.AnimalType == 'Cat']\n",
    "# pd.crosstab(cats_outcomes.OutcomeType, cats_outcomes.LifeStage, normalize='columns', margins=True). \\\n",
    "#             plot(kind='bar', title='Cats - Life Stages by Outcome Types', grid=True, figsize=(6,4))"
   ]
  },
  {
   "cell_type": "markdown",
   "metadata": {},
   "source": [
    "### Insights about main differences between Dogs and Cats regarding Age:\n",
    "- While Junior dogs' chances to be Adopted are rising, Junior cats' chances are falling\n",
    "- Senior dogs' chances to be Adopted are much lower than Senior cats'\n",
    "- Senior and Geriatric cats' chances to be Euthaaised are higher than Senior and Geriatric dogs'\n",
    "- Junior cats' chances to be Transferred are higher than Junior dogs'"
   ]
  },
  {
   "cell_type": "markdown",
   "metadata": {},
   "source": [
    "## 3.6 Breed:"
   ]
  },
  {
   "cell_type": "markdown",
   "metadata": {},
   "source": [
    "#### First - some exploration of this feature"
   ]
  },
  {
   "cell_type": "code",
   "execution_count": 72,
   "metadata": {},
   "outputs": [],
   "source": [
    "# outcomes.Breed.nunique()"
   ]
  },
  {
   "cell_type": "code",
   "execution_count": 73,
   "metadata": {},
   "outputs": [],
   "source": [
    "dogs_outcomes = outcomes[outcomes.AnimalType == 'Dog']\n",
    "cats_outcomes = outcomes[outcomes.AnimalType == 'Cat']"
   ]
  },
  {
   "cell_type": "markdown",
   "metadata": {},
   "source": [
    "#### Dogs"
   ]
  },
  {
   "cell_type": "code",
   "execution_count": 74,
   "metadata": {},
   "outputs": [],
   "source": [
    "# dogs_outcomes.Breed.nunique()"
   ]
  },
  {
   "cell_type": "code",
   "execution_count": 75,
   "metadata": {},
   "outputs": [],
   "source": [
    "dogs_popularity = dogs_outcomes['Breed'].value_counts()\n",
    "# dogs_popularity"
   ]
  },
  {
   "cell_type": "code",
   "execution_count": 76,
   "metadata": {},
   "outputs": [],
   "source": [
    "# number of breeds that contains 80% of all dogs\n",
    "number_of_popular_dogs = dogs_popularity.cumsum().searchsorted(0.8*animal_types.loc['Dog'])[0]\n",
    "# number_of_popular_dogs"
   ]
  },
  {
   "cell_type": "markdown",
   "metadata": {},
   "source": [
    "#### Cats"
   ]
  },
  {
   "cell_type": "code",
   "execution_count": 77,
   "metadata": {},
   "outputs": [],
   "source": [
    "# cats_outcomes.Breed.nunique()"
   ]
  },
  {
   "cell_type": "code",
   "execution_count": 78,
   "metadata": {},
   "outputs": [],
   "source": [
    "cats_popularity = cats_outcomes['Breed'].value_counts()\n",
    "# cats_popularity"
   ]
  },
  {
   "cell_type": "code",
   "execution_count": 79,
   "metadata": {},
   "outputs": [],
   "source": [
    "# number of breeds that contains 80% of all cats\n",
    "number_of_popular_cats = cats_popularity.cumsum().searchsorted(0.8*animal_types.loc['Cat'])[0]\n",
    "# number_of_popular_cats"
   ]
  },
  {
   "cell_type": "markdown",
   "metadata": {},
   "source": [
    "As shown above, there are 1,380 different values in the Breed column. Some of the values include the word 'Mix', some of them\n",
    "consist of two breeds (separated by '/') and some consist of one \"pure\" breed.\n",
    "\n",
    "I'll try to deal with this feature and its correlation with the pets OutcomeTypes, in several different ways:\n",
    "\n",
    "    a. Creating a new 'BreedPurity' column, whose values would relate to the \"purity\" of the breed\n",
    "    b. Narrowing the variety of values by adding a new 'MainBreed' column which will hold the \"main breed\" of each pet\n",
    "    c. Presenting additional data that I've found in external sources, based on the pets' breeds"
   ]
  },
  {
   "cell_type": "markdown",
   "metadata": {},
   "source": [
    "First, I'd like to check whether there are values which contain more than one '/'"
   ]
  },
  {
   "cell_type": "code",
   "execution_count": 80,
   "metadata": {},
   "outputs": [],
   "source": [
    "check_slash_breed = outcomes.Breed.apply(lambda breed: breed if breed.count('/') > 1 else None)"
   ]
  },
  {
   "cell_type": "code",
   "execution_count": 81,
   "metadata": {},
   "outputs": [],
   "source": [
    "# check_slash_breed.value_counts()"
   ]
  },
  {
   "cell_type": "markdown",
   "metadata": {},
   "source": [
    "I'll now convert the 'Black/Tan Hound' string to 'Black and Tan Hound'"
   ]
  },
  {
   "cell_type": "code",
   "execution_count": 82,
   "metadata": {},
   "outputs": [],
   "source": [
    "outcomes.Breed = outcomes.Breed.apply(lambda breed: breed.replace('Black/Tan Hound', 'Black and Tan Hound') \\\n",
    "                                      if 'Black/Tan Hound' in breed else breed)"
   ]
  },
  {
   "cell_type": "markdown",
   "metadata": {},
   "source": [
    "### 3.6.a Creating a new 'BreedPurity' column:"
   ]
  },
  {
   "cell_type": "code",
   "execution_count": 83,
   "metadata": {},
   "outputs": [],
   "source": [
    "def calc_breed_type(breed):\n",
    "    '''\n",
    "    Returns a \"breed purity\" of a given breed.\n",
    "    The defined values of breed purity are:\n",
    "        - Mix: in case the word 'Mix' exists in the breed\n",
    "        - Crossbreeds: in case the sign '/' exists in the breed\n",
    "        - Purebred: in case the value consists of one breed only (no 'mix' and no '/')    \n",
    "    '''\n",
    "    if 'Mix' in breed:\n",
    "        return 'Mix'\n",
    "    if '/' in breed:\n",
    "        return 'Crossbreeds'\n",
    "    return 'Purebred'\n",
    "\n",
    "outcomes['BreedPurity'] = outcomes['Breed'].apply(calc_breed_type)"
   ]
  },
  {
   "cell_type": "code",
   "execution_count": 84,
   "metadata": {},
   "outputs": [],
   "source": [
    "# outcomes.head()"
   ]
  },
  {
   "cell_type": "code",
   "execution_count": 85,
   "metadata": {},
   "outputs": [],
   "source": [
    "# outcomes.BreedPurity.value_counts(dropna=False)"
   ]
  },
  {
   "cell_type": "code",
   "execution_count": 86,
   "metadata": {},
   "outputs": [],
   "source": [
    "# pd.crosstab(outcomes.OutcomeType, outcomes.BreedPurity, normalize='columns', margins=True)"
   ]
  },
  {
   "cell_type": "code",
   "execution_count": 87,
   "metadata": {},
   "outputs": [],
   "source": [
    "# Looking separately at Dogs and Cats:\n",
    "\n",
    "dogs_outcomes = outcomes[outcomes.AnimalType == 'Dog']\n",
    "cats_outcomes = outcomes[outcomes.AnimalType == 'Cat']"
   ]
  },
  {
   "cell_type": "markdown",
   "metadata": {},
   "source": [
    "#### Dogs"
   ]
  },
  {
   "cell_type": "code",
   "execution_count": 88,
   "metadata": {},
   "outputs": [],
   "source": [
    "# dogs_outcomes.BreedPurity.value_counts(dropna=False)"
   ]
  },
  {
   "cell_type": "code",
   "execution_count": 89,
   "metadata": {},
   "outputs": [],
   "source": [
    "dogs_breed_outcome_crstb = pd.crosstab(dogs_outcomes.OutcomeType, dogs_outcomes.BreedPurity, normalize='columns', margins=True)"
   ]
  },
  {
   "cell_type": "code",
   "execution_count": 90,
   "metadata": {},
   "outputs": [],
   "source": [
    "# dogs_breed_outcome_crstb"
   ]
  },
  {
   "cell_type": "code",
   "execution_count": 91,
   "metadata": {},
   "outputs": [],
   "source": [
    "# dogs_breed_outcome_crstb.plot(kind='bar', title='Outcome Types by Breed Purity', grid=True, figsize=(6,4), subplots=False)"
   ]
  },
  {
   "cell_type": "markdown",
   "metadata": {},
   "source": [
    "### Insights regarding dogs breeds:\n",
    "- As a Crossbreeds dog, your chances of being Adopted are rising, and your chances of being RTO are falling\n",
    "- As a Purebed dog, your chances of being Adopted are falling, and your chances of being RTO are rising (which is not\n",
    "  surprising, as it might be an expensive or rare dog, whom the owner would try hard to find)    "
   ]
  },
  {
   "cell_type": "markdown",
   "metadata": {},
   "source": [
    "#### Cats"
   ]
  },
  {
   "cell_type": "code",
   "execution_count": 92,
   "metadata": {},
   "outputs": [],
   "source": [
    "# cats_outcomes.BreedPurity.value_counts(dropna=False)"
   ]
  },
  {
   "cell_type": "code",
   "execution_count": 93,
   "metadata": {},
   "outputs": [],
   "source": [
    "cats_breed_outcome_crstb = pd.crosstab(dogs_outcomes.OutcomeType, dogs_outcomes.BreedPurity, normalize='columns', margins=True)"
   ]
  },
  {
   "cell_type": "code",
   "execution_count": 94,
   "metadata": {},
   "outputs": [],
   "source": [
    "# cats_breed_outcome_crstb"
   ]
  },
  {
   "cell_type": "code",
   "execution_count": 95,
   "metadata": {},
   "outputs": [],
   "source": [
    "# cats_breed_outcome_crstb.plot(kind='bar', title='Outcome Types by Breed Purity', grid=True, figsize=(6,4))"
   ]
  },
  {
   "cell_type": "markdown",
   "metadata": {},
   "source": [
    "### Insights regarding Cats:\n",
    "- As a Crossbreeds cat, your chances of being Adopted are rising, and your chances of being RTO are falling\n",
    "- As a Purebed cat, your chances of being Adopted are falling, and your chances of being RTO are rising (same as dogs). Your\n",
    "  chances of being Transferred are a bit rising\n",
    "\n",
    "Note: Percentage of 'Mix' cats is very high (97.5%), so the contribution of this feature to the Model is doubtful"
   ]
  },
  {
   "cell_type": "markdown",
   "metadata": {},
   "source": [
    "### 3.6.b Narrowing the variety of values by adding a new column which will hold the \"main breed\" of each pet. "
   ]
  },
  {
   "cell_type": "code",
   "execution_count": 96,
   "metadata": {},
   "outputs": [],
   "source": [
    "def calc_main_breed(breed):\n",
    "    \"\"\"Returns the first breed of the original value, by taking the letters from the beginning till 'Mix' or '/'\"\"\"\n",
    "    breed = breed.replace(' Mix', '')\n",
    "    try:\n",
    "        return breed[:breed.index('/')]\n",
    "    except:\n",
    "        return breed\n",
    "    \n",
    "outcomes['MainBreed'] = outcomes['Breed'].apply(calc_main_breed)\n"
   ]
  },
  {
   "cell_type": "code",
   "execution_count": 97,
   "metadata": {},
   "outputs": [],
   "source": [
    "# outcomes.head()"
   ]
  },
  {
   "cell_type": "code",
   "execution_count": 98,
   "metadata": {},
   "outputs": [
    {
     "data": {
      "text/plain": [
       "220"
      ]
     },
     "execution_count": 98,
     "metadata": {},
     "output_type": "execute_result"
    }
   ],
   "source": [
    "outcomes.MainBreed.nunique()"
   ]
  },
  {
   "cell_type": "code",
   "execution_count": 99,
   "metadata": {},
   "outputs": [],
   "source": [
    "# Number of unique breeds went down from 1,380 to 220 (still high...)"
   ]
  },
  {
   "cell_type": "code",
   "execution_count": 100,
   "metadata": {},
   "outputs": [],
   "source": [
    "# Looking separately at Dogs and Cats:\n",
    "\n",
    "dogs_outcomes = outcomes[outcomes.AnimalType == 'Dog']\n",
    "cats_outcomes = outcomes[outcomes.AnimalType == 'Cat']"
   ]
  },
  {
   "cell_type": "markdown",
   "metadata": {},
   "source": [
    "#### Dogs"
   ]
  },
  {
   "cell_type": "code",
   "execution_count": 101,
   "metadata": {},
   "outputs": [],
   "source": [
    "# dogs_outcomes.MainBreed.nunique()"
   ]
  },
  {
   "cell_type": "code",
   "execution_count": 102,
   "metadata": {},
   "outputs": [],
   "source": [
    "# dogs_outcomes.MainBreed.value_counts().head()"
   ]
  },
  {
   "cell_type": "code",
   "execution_count": 103,
   "metadata": {},
   "outputs": [],
   "source": [
    "dogs_breed_outcome_crstb = pd.crosstab(dogs_outcomes.MainBreed, dogs_outcomes.OutcomeType, normalize='index', margins=True)"
   ]
  },
  {
   "cell_type": "code",
   "execution_count": 104,
   "metadata": {},
   "outputs": [],
   "source": [
    "# dogs_breed_outcome_crstb"
   ]
  },
  {
   "cell_type": "markdown",
   "metadata": {},
   "source": [
    "#### Cats"
   ]
  },
  {
   "cell_type": "code",
   "execution_count": 105,
   "metadata": {},
   "outputs": [],
   "source": [
    "# cats_outcomes.MainBreed.nunique()"
   ]
  },
  {
   "cell_type": "code",
   "execution_count": 106,
   "metadata": {},
   "outputs": [],
   "source": [
    "# cats_outcomes.MainBreed.value_counts().head()"
   ]
  },
  {
   "cell_type": "code",
   "execution_count": 107,
   "metadata": {},
   "outputs": [],
   "source": [
    "cats_breed_outcome_crstb = pd.crosstab(cats_outcomes.MainBreed, cats_outcomes.OutcomeType, normalize='index', margins=True)"
   ]
  },
  {
   "cell_type": "code",
   "execution_count": 108,
   "metadata": {},
   "outputs": [],
   "source": [
    "# cats_breed_outcome_crstb"
   ]
  },
  {
   "cell_type": "markdown",
   "metadata": {},
   "source": [
    "### 3.6.c Presenting additional data from external sources, based on the pets' breeds:\n",
    "\n",
    "- **CATS:**\n",
    "  - As shown above, the most 3 frequent cats' \"MainBreeds\", are: Domestic Shorthair (8,958), Domestic Medium Hair (883) and\n",
    "    Domestic Longhair (547). Actually, these are not \"real\" breeds (cats of mixed ancestry – thus not belonging to any\n",
    "    particular recognised cat breed) and as such, it was impossible to find external statistical data about them. \n",
    "    Since these 3 \"breeds\" together constitute about 93% of all cats' samples, there's no use of trying to elaborate on\n",
    "    the cats' breeds.\n",
    "\n",
    "- **DOGS:**\n",
    "  - As mentioned above, it seems that there are features, that are missing and could be useful, such as dog's size and other typical characteristics. While seeking these data, I found the following:\n",
    "      \n",
    "        i.   a CSV file with dog breeds' \"families\", such as: Herding, Hound, Toy, etc.\n",
    "        ii.  a json file which summarizes significant characteristics of numerous breeds of dogs, such as:\n",
    "             size, friendliness, level of shedding, etc.\n",
    "          \n",
    "    I will now elaborate on that, as follows."
   ]
  },
  {
   "cell_type": "markdown",
   "metadata": {},
   "source": [
    "#### i. Families of Breeds"
   ]
  },
  {
   "cell_type": "code",
   "execution_count": 109,
   "metadata": {},
   "outputs": [],
   "source": [
    "families = pd.read_csv('breeds_families.csv', index_col='Breed')"
   ]
  },
  {
   "cell_type": "code",
   "execution_count": 110,
   "metadata": {},
   "outputs": [],
   "source": [
    "# families.head()"
   ]
  },
  {
   "cell_type": "code",
   "execution_count": 111,
   "metadata": {},
   "outputs": [],
   "source": [
    "# families.Family.value_counts()"
   ]
  },
  {
   "cell_type": "code",
   "execution_count": 112,
   "metadata": {},
   "outputs": [],
   "source": [
    "# families.describe()"
   ]
  },
  {
   "cell_type": "code",
   "execution_count": 113,
   "metadata": {},
   "outputs": [],
   "source": [
    "def find_dog_family(row):\n",
    "    \"\"\"\n",
    "    If Cat - return 'Irrelevant'.\n",
    "    If the dog's MainBreed exists in the families dataframe - return the family, else return 'Unknown'\n",
    "    \"\"\"\n",
    "    if row.loc['AnimalType'] == 'Cat':\n",
    "        return 'Irrelevant'\n",
    "    try:\n",
    "        return families.loc[row.loc['MainBreed']][0]\n",
    "    except:\n",
    "        return 'Unknown'\n",
    "   \n",
    "outcomes['DogFamily'] = outcomes.apply(find_dog_family, axis=1)"
   ]
  },
  {
   "cell_type": "code",
   "execution_count": 114,
   "metadata": {
    "scrolled": true
   },
   "outputs": [],
   "source": [
    "# outcomes.head()"
   ]
  },
  {
   "cell_type": "code",
   "execution_count": 115,
   "metadata": {},
   "outputs": [],
   "source": [
    "# outcomes.DogFamily.value_counts(dropna=False)"
   ]
  },
  {
   "cell_type": "code",
   "execution_count": 116,
   "metadata": {},
   "outputs": [],
   "source": [
    "dogs_outcomes = outcomes[(outcomes.AnimalType == 'Dog') & (outcomes.DogFamily != 'Unknown')]"
   ]
  },
  {
   "cell_type": "code",
   "execution_count": 117,
   "metadata": {
    "scrolled": true
   },
   "outputs": [],
   "source": [
    "# dogs_outcomes.DogFamily.value_counts(dropna=False)"
   ]
  },
  {
   "cell_type": "code",
   "execution_count": 118,
   "metadata": {},
   "outputs": [],
   "source": [
    "# pd.crosstab(dogs_outcomes.OutcomeType, dogs_outcomes.DogFamily, margins=True)"
   ]
  },
  {
   "cell_type": "code",
   "execution_count": 119,
   "metadata": {},
   "outputs": [],
   "source": [
    "dogs_outcome_family_crstb = pd.crosstab(dogs_outcomes.OutcomeType, dogs_outcomes.DogFamily, normalize='columns', margins=True)"
   ]
  },
  {
   "cell_type": "code",
   "execution_count": 120,
   "metadata": {},
   "outputs": [],
   "source": [
    "# dogs_outcome_family_crstb"
   ]
  },
  {
   "cell_type": "code",
   "execution_count": 121,
   "metadata": {},
   "outputs": [],
   "source": [
    "# dogs_outcome_family_crstb.plot(kind='bar', title='Breed Families by Outcome Types', grid=True, figsize=(7,5))"
   ]
  },
  {
   "cell_type": "code",
   "execution_count": 122,
   "metadata": {},
   "outputs": [],
   "source": [
    "dogs_family_outcome_crstb = pd.crosstab(dogs_outcomes.DogFamily, dogs_outcomes.OutcomeType, normalize='index', margins=True)"
   ]
  },
  {
   "cell_type": "code",
   "execution_count": 123,
   "metadata": {},
   "outputs": [],
   "source": [
    "# dogs_family_outcome_crstb"
   ]
  },
  {
   "cell_type": "code",
   "execution_count": 124,
   "metadata": {},
   "outputs": [],
   "source": [
    "# dogs_family_outcome_crstb.plot(kind='bar', title='Outcome Types by Breed Families', grid=True, figsize=(8,6))"
   ]
  },
  {
   "cell_type": "markdown",
   "metadata": {},
   "source": [
    "### Insights regarding Families of Dog breeds:\n",
    "- As a Herding/Hound/Terrier/Sporting/Toy dog, your chances of being Adopted are rising\n",
    "- As a Companion/Pit Bull dog, your chances of being Adopted are significantly falling\n",
    "- As a Pit Bull, your chances of being Euthanaised are significantly rising\n",
    "- As a Hound dog, your chances of being Euthanaised are significantly falling\n",
    "- As a Toy/Companion dog, your chances to Die are rising\n",
    "- As a Companion/Working/Pit Bull dog, your chances of being RTO are rising. These chances are falling for Herding/Hound dogs"
   ]
  },
  {
   "cell_type": "markdown",
   "metadata": {},
   "source": [
    "#### ii. Characteristics of Dogs' Breeds"
   ]
  },
  {
   "cell_type": "code",
   "execution_count": 125,
   "metadata": {},
   "outputs": [],
   "source": [
    "import json"
   ]
  },
  {
   "cell_type": "code",
   "execution_count": 126,
   "metadata": {},
   "outputs": [],
   "source": [
    "# Reading a json file, which contains main characteristics of dogs' breeds. Each characteristic is given as a grade from 1 to 5\n",
    "\n",
    "with open('dogs_characteristics.json', encoding='utf-8') as f:\n",
    "    dogs_chars = pd.DataFrame.from_dict(json.load(f))"
   ]
  },
  {
   "cell_type": "code",
   "execution_count": 127,
   "metadata": {
    "scrolled": false
   },
   "outputs": [],
   "source": [
    "# dogs_chars.info()"
   ]
  },
  {
   "cell_type": "code",
   "execution_count": 128,
   "metadata": {},
   "outputs": [],
   "source": [
    "# dogs_chars.name.nunique()"
   ]
  },
  {
   "cell_type": "code",
   "execution_count": 129,
   "metadata": {},
   "outputs": [],
   "source": [
    "dogs_chars.set_index('name', inplace=True)"
   ]
  },
  {
   "cell_type": "code",
   "execution_count": 130,
   "metadata": {},
   "outputs": [],
   "source": [
    "# 'id' is not necessary. The 'name' column represents the dog's breed\n",
    "dogs_chars.drop(columns='id', inplace=True)         "
   ]
  },
  {
   "cell_type": "code",
   "execution_count": 131,
   "metadata": {},
   "outputs": [],
   "source": [
    "# rename dogs_chars' columns to \"standard form\", with indication that these features are relevant only to Dogs\n",
    "for col_name in list(dogs_chars.columns):\n",
    "    dogs_chars.rename(columns={col_name: 'Dog'+col_name[0].upper()+col_name[1:]}, inplace=True)"
   ]
  },
  {
   "cell_type": "code",
   "execution_count": 132,
   "metadata": {},
   "outputs": [],
   "source": [
    "# dogs_chars.columns"
   ]
  },
  {
   "cell_type": "code",
   "execution_count": 133,
   "metadata": {
    "scrolled": true
   },
   "outputs": [],
   "source": [
    "# dogs_chars.head()"
   ]
  },
  {
   "cell_type": "code",
   "execution_count": 134,
   "metadata": {},
   "outputs": [],
   "source": [
    "# Joining the dogs_chars df with the outcomes df (dogs_chars.name and outcomes.MainBreed are the \"keys\" for this join)\n",
    "\n",
    "outcomes = outcomes.join(dogs_chars, on='MainBreed')\n",
    "# outcomes.head()"
   ]
  },
  {
   "cell_type": "code",
   "execution_count": 135,
   "metadata": {},
   "outputs": [],
   "source": [
    "# outcomes.info()"
   ]
  },
  {
   "cell_type": "code",
   "execution_count": 195,
   "metadata": {},
   "outputs": [],
   "source": [
    "cols = list(dogs_chars.columns)                    # a list of the new columns\n",
    "for col in cols:                                   # fill missing values with 999\n",
    "    outcomes[col].fillna(value=999, inplace=True)\n",
    "\n",
    "outcomes[cols] = outcomes[cols].astype(int)        # convert float numbers to int"
   ]
  },
  {
   "cell_type": "code",
   "execution_count": 196,
   "metadata": {},
   "outputs": [],
   "source": [
    "# outcomes.info()"
   ]
  },
  {
   "cell_type": "code",
   "execution_count": 197,
   "metadata": {},
   "outputs": [],
   "source": [
    "# outcomes.head()"
   ]
  },
  {
   "cell_type": "markdown",
   "metadata": {},
   "source": [
    "#### Investigating the new features"
   ]
  },
  {
   "cell_type": "code",
   "execution_count": 198,
   "metadata": {},
   "outputs": [],
   "source": [
    "# outcomes['DogSize'].value_counts()"
   ]
  },
  {
   "cell_type": "code",
   "execution_count": 199,
   "metadata": {},
   "outputs": [],
   "source": [
    "dogs_outcomes = outcomes[(outcomes['AnimalType'] == 'Dog') & (outcomes['DogSize'] != 999)]"
   ]
  },
  {
   "cell_type": "code",
   "execution_count": 200,
   "metadata": {},
   "outputs": [],
   "source": [
    "# dogs_outcomes['DogSize'].value_counts()"
   ]
  },
  {
   "cell_type": "code",
   "execution_count": 201,
   "metadata": {},
   "outputs": [],
   "source": [
    "# pd.crosstab(dogs_outcomes.OutcomeType, dogs_outcomes.DogSize, margins=True)"
   ]
  },
  {
   "cell_type": "code",
   "execution_count": 202,
   "metadata": {},
   "outputs": [],
   "source": [
    "dogs_outcome_size_crstb = pd.crosstab(dogs_outcomes.OutcomeType, dogs_outcomes.DogSize, normalize='columns', margins=True)\n",
    "# dogs_outcome_size_crstb"
   ]
  },
  {
   "cell_type": "code",
   "execution_count": 203,
   "metadata": {},
   "outputs": [],
   "source": [
    "# dogs_outcome_size_crstb.plot(kind='bar', title='Dog Sizes by Outcome Types', grid=True, figsize=(6,4))"
   ]
  },
  {
   "cell_type": "markdown",
   "metadata": {},
   "source": [
    "### Insights regarding Dogs' sizes:\n",
    "- As a very big dog (size=5), your chances to Die or to be Transferred are rising. Your chances of being Adopted are falling\n",
    "- As a  dog of size = 2, your chances of being RTO are significantly rising. Your chances of being Adopted are falling\n",
    "- As a very small dog (size=1), your chances to be Transferred are rising. Your chances of being RTO are falling"
   ]
  },
  {
   "cell_type": "code",
   "execution_count": 204,
   "metadata": {},
   "outputs": [],
   "source": [
    "# pd.crosstab(dogs_outcomes.OutcomeType, dogs_outcomes.DogDogFriendly, normalize='columns', margins=True). \\\n",
    "#             plot(kind='bar', title='Friendliness to Other Dogs by Outcome Types', grid=True, figsize=(6,4))"
   ]
  },
  {
   "cell_type": "markdown",
   "metadata": {},
   "source": [
    "### Insights regarding Dogs' level of friendliness to other dogs:\n",
    "- As an unfriendly dog (to other dogs), your chances to Die or to be Euthanaised are significally rising. Your chances of\n",
    "  being Adopted are falling"
   ]
  },
  {
   "cell_type": "code",
   "execution_count": 205,
   "metadata": {},
   "outputs": [],
   "source": [
    "# pd.crosstab(dogs_outcomes.OutcomeType, dogs_outcomes.DogKidFriendly, normalize='columns', margins=True). \\\n",
    "#             plot(kind='bar', title='Friendliness to Kids by Outcome Types', grid=True, figsize=(6,4))"
   ]
  },
  {
   "cell_type": "markdown",
   "metadata": {},
   "source": [
    "### Insights regarding Dogs' level of friendliness to kids (very similar to dogFriendly):\n",
    "- As an unfriendly dog (to kids), your chances to Die or to be Euthanaised are significally rising. Your chances of\n",
    "  being Adopted are falling"
   ]
  },
  {
   "cell_type": "code",
   "execution_count": 206,
   "metadata": {},
   "outputs": [],
   "source": [
    "# pd.crosstab(dogs_outcomes.OutcomeType, dogs_outcomes.DogEasyToGroom, normalize='columns', margins=True). \\\n",
    "#             plot(kind='bar', title='Easy to Groom by Outcome Types', grid=True, figsize=(6,4))"
   ]
  },
  {
   "cell_type": "markdown",
   "metadata": {},
   "source": [
    "### Insights regarding Dogs' ease of grooming:\n",
    "- As a dog with low levels of ease-of-grooming, your chances to be Adopted are falling, while your chances of being \n",
    "  Euthanaised or Transferred are rising"
   ]
  },
  {
   "cell_type": "code",
   "execution_count": 207,
   "metadata": {},
   "outputs": [],
   "source": [
    "# pd.crosstab(dogs_outcomes.OutcomeType, dogs_outcomes.DogLowShedding, normalize='columns', margins=True). \\\n",
    "#             plot(kind='bar', title='Shedding by Outcome Types', grid=True, figsize=(6,4))"
   ]
  },
  {
   "cell_type": "markdown",
   "metadata": {},
   "source": [
    "### Insights regarding Dogs' level of Shedding:\n",
    "- As a dog with level of shedding = 2, your chances to be Adopted are falling, while your chances of being \n",
    "  Euthanaised or RTO are rising (can't find an explanation for this insight...)"
   ]
  },
  {
   "cell_type": "code",
   "execution_count": 208,
   "metadata": {},
   "outputs": [],
   "source": [
    "# pd.crosstab(dogs_outcomes.OutcomeType, dogs_outcomes.DogEasyToTrain, normalize='columns', margins=True). \\\n",
    "#             plot(kind='bar', title='Ease of Training by Outcome Types', grid=True, figsize=(6,4))"
   ]
  },
  {
   "cell_type": "markdown",
   "metadata": {},
   "source": [
    "### Insights regarding Dogs' ease of training:\n",
    "- As a dog with level of easeToTrain = 3, your chances to be Adopted are falling, while your chances of being \n",
    "  Transferred are rising (can't find an explanation for this insight...)"
   ]
  },
  {
   "cell_type": "code",
   "execution_count": 209,
   "metadata": {},
   "outputs": [],
   "source": [
    "# pd.crosstab(dogs_outcomes.OutcomeType, dogs_outcomes.DogIntelligence, normalize='columns', margins=True). \\\n",
    "#             plot(kind='bar', title='Intelligence by Outcome Types', grid=True, figsize=(6,4))"
   ]
  },
  {
   "cell_type": "markdown",
   "metadata": {},
   "source": [
    "### Insights regarding Dogs' intelligence:\n",
    "- As a dog with low level of intelligence, your chances to be Adopted are significantly falling, while your chances of being \n",
    "  Euthanaised are significantly rising"
   ]
  },
  {
   "cell_type": "code",
   "execution_count": 210,
   "metadata": {},
   "outputs": [],
   "source": [
    "# pd.crosstab(dogs_outcomes.OutcomeType, dogs_outcomes.DogHighEnergy, normalize='columns', margins=True). \\\n",
    "#             plot(kind='bar', title='Level of Energy by Outcome Types', grid=True, figsize=(6,4))"
   ]
  },
  {
   "cell_type": "markdown",
   "metadata": {},
   "source": [
    "### Insights regarding Dogs' level of Energy:\n",
    "- As a low-energy dog, your chances of being Adopted are significantly falling, while your chances of being \n",
    "  Euthanaised/RTO/Transferred are rising"
   ]
  },
  {
   "cell_type": "code",
   "execution_count": 211,
   "metadata": {},
   "outputs": [],
   "source": [
    "# pd.crosstab(dogs_outcomes.OutcomeType, dogs_outcomes.DogLowBarking, normalize='columns', margins=True). \\\n",
    "#             plot(kind='bar', title='Level of Barking by Outcome Types', grid=True, figsize=(6,4))"
   ]
  },
  {
   "cell_type": "markdown",
   "metadata": {},
   "source": [
    "### No specific insights regarding Dogs' level of Barking."
   ]
  },
  {
   "cell_type": "code",
   "execution_count": 212,
   "metadata": {},
   "outputs": [],
   "source": [
    "# pd.crosstab(dogs_outcomes.OutcomeType, dogs_outcomes.DogGoodHealth, normalize='columns', margins=True). \\\n",
    "#             plot(kind='bar', title='General Health by Outcome Types', grid=True, figsize=(6,4))"
   ]
  },
  {
   "cell_type": "markdown",
   "metadata": {},
   "source": [
    "### Insights regarding Dogs' level of Health:\n",
    "- As a dog with very low level of general health, your chances of being Adopted are falling, while your chances of being \n",
    "  RTO are rising\n",
    "- As a dog with the highest level of general health, your chances of being Adopted are rising"
   ]
  },
  {
   "cell_type": "code",
   "execution_count": 213,
   "metadata": {},
   "outputs": [],
   "source": [
    "# pd.crosstab(dogs_outcomes.OutcomeType, dogs_outcomes.DogToleratesCold, normalize='columns', margins=True). \\\n",
    "#             plot(kind='bar', title='Tolerance to Cold by Outcome Types', grid=True, figsize=(6,4))"
   ]
  },
  {
   "cell_type": "markdown",
   "metadata": {},
   "source": [
    "### No specific insights regarding Dogs' Tolerance to Cold"
   ]
  },
  {
   "cell_type": "code",
   "execution_count": 214,
   "metadata": {},
   "outputs": [],
   "source": [
    "# pd.crosstab(dogs_outcomes.OutcomeType, dogs_outcomes.DogToleratesHot, normalize='columns', margins=True). \\\n",
    "#             plot(kind='bar', title='Tolerance to Heat by Outcome Types', grid=True, figsize=(6,4))"
   ]
  },
  {
   "cell_type": "markdown",
   "metadata": {},
   "source": [
    "### Insights regarding Dogs' Tolerance to Heat:\n",
    "- As a dog with very low tolerance to heat, your chances of being Adopted are significantly falling. Your chances of being \n",
    "  Transferred are rising\n",
    "\n",
    "It's hot in Texas! :)"
   ]
  },
  {
   "cell_type": "markdown",
   "metadata": {},
   "source": [
    "## 3.7 Color:\n",
    "\n",
    "**First - some exploration of this feature**"
   ]
  },
  {
   "cell_type": "code",
   "execution_count": 215,
   "metadata": {},
   "outputs": [],
   "source": [
    "# outcomes.Color.nunique()"
   ]
  },
  {
   "cell_type": "code",
   "execution_count": 216,
   "metadata": {},
   "outputs": [],
   "source": [
    "dogs_outcomes = outcomes[outcomes.AnimalType == 'Dog']\n",
    "cats_outcomes = outcomes[outcomes.AnimalType == 'Cat']"
   ]
  },
  {
   "cell_type": "markdown",
   "metadata": {},
   "source": [
    "#### Dogs"
   ]
  },
  {
   "cell_type": "code",
   "execution_count": 217,
   "metadata": {},
   "outputs": [],
   "source": [
    "# dogs_outcomes.Color.nunique()"
   ]
  },
  {
   "cell_type": "code",
   "execution_count": 218,
   "metadata": {},
   "outputs": [],
   "source": [
    "dogs_color_popularity = dogs_outcomes['Color'].value_counts()\n",
    "# dogs_color_popularity"
   ]
  },
  {
   "cell_type": "code",
   "execution_count": 219,
   "metadata": {},
   "outputs": [],
   "source": [
    "# number of colors that constitute 80% of all dogs' samples\n",
    "dogs_number_of_popular_colors = dogs_color_popularity.cumsum().searchsorted(0.8*animal_types.loc['Dog'])[0]\n",
    "# dogs_number_of_popular_colors"
   ]
  },
  {
   "cell_type": "markdown",
   "metadata": {},
   "source": [
    "#### Cats"
   ]
  },
  {
   "cell_type": "code",
   "execution_count": 220,
   "metadata": {},
   "outputs": [],
   "source": [
    "# cats_outcomes.Color.nunique()"
   ]
  },
  {
   "cell_type": "code",
   "execution_count": 221,
   "metadata": {},
   "outputs": [],
   "source": [
    "cats_color_popularity = cats_outcomes['Color'].value_counts()\n",
    "# cats_color_popularity"
   ]
  },
  {
   "cell_type": "code",
   "execution_count": 222,
   "metadata": {},
   "outputs": [],
   "source": [
    "# number of colors that constitute 80% of all cats' samples\n",
    "cats_number_of_popular_colors = cats_color_popularity.cumsum().searchsorted(0.8*animal_types.loc['Cat'])[0]\n",
    "# cats_number_of_popular_colors"
   ]
  },
  {
   "cell_type": "markdown",
   "metadata": {},
   "source": [
    "As shown above, there are 366 unique values in the Color column. Some of these values include a \"coat pattern\" (especially\n",
    "with cats), some of them consist of two colors (separated by '/') and some consist of one color.\n",
    "I'll try to deal with this feature and its correlation with the pets' OutcomeTypes, in 2 different ways:\n",
    "\n",
    "    a. Creating a new 'ColorCoat' column, whose values would relate to the \"coat pattern\" of the Color feature\n",
    "    b. Creating a new 'ColorGroup' column, whose values would reflect the colors' \"families\"\n",
    "    \n",
    "**Note:** Not like in the case of \"Breed\" feature, narrowing the variety of colors by adding a new 'MainColor' column, might not\n",
    "      serve us well, because there's a big difference between, for instance, 'Black/White' and 'Black'. For that reason, \n",
    "      I will not add such a column."
   ]
  },
  {
   "cell_type": "markdown",
   "metadata": {},
   "source": [
    "### 3.7.a Creating a new 'ColorCoat' column:"
   ]
  },
  {
   "cell_type": "code",
   "execution_count": 223,
   "metadata": {},
   "outputs": [],
   "source": [
    "coats = ['Augoti', 'Brindle', 'Calico', 'Merle', 'Point', 'Smoke', 'Tabby', 'Tick', 'Tiger', 'Torbie', 'Tortie', 'Tricolor']"
   ]
  },
  {
   "cell_type": "code",
   "execution_count": 224,
   "metadata": {},
   "outputs": [],
   "source": [
    "def set_color_coat(color):\n",
    "    \"\"\"\n",
    "    Returns a \"color coat\" of a given color. \n",
    "    If no coat was found, return 'Bicolor' if given color consists of two colors (separated by '/'), else return 'Solid' \n",
    "    \"\"\"\n",
    "    if color == 'Black/White':     # Black/White is not really a \"coat\", \n",
    "        return color               #                    however it is very popular and I want to define it specifically\n",
    "    try:\n",
    "        first_color, second_color = color.split('/')\n",
    "        for coat in coats:                # look for coat in prime color\n",
    "            if coat in first_color:\n",
    "                return coat\n",
    "        for coat in coats:                # look for coat in secondary color\n",
    "            if coat in second_color:\n",
    "                return coat\n",
    "        return 'Bicolor'\n",
    "    except:\n",
    "        for coat in coats:                # look for coat in color\n",
    "            if coat in color:\n",
    "                return coat\n",
    "        return 'Solid'\n",
    "\n",
    "outcomes['ColorCoat'] = outcomes['Color'].apply(set_color_coat)"
   ]
  },
  {
   "cell_type": "code",
   "execution_count": 225,
   "metadata": {},
   "outputs": [],
   "source": [
    "# outcomes.head()"
   ]
  },
  {
   "cell_type": "code",
   "execution_count": 226,
   "metadata": {},
   "outputs": [],
   "source": [
    "# outcomes['ColorCoat'].value_counts()"
   ]
  },
  {
   "cell_type": "code",
   "execution_count": 227,
   "metadata": {},
   "outputs": [],
   "source": [
    "# pd.crosstab(outcomes.ColorCoat, outcomes.OutcomeType, margins=True)"
   ]
  },
  {
   "cell_type": "markdown",
   "metadata": {},
   "source": [
    "Separating between Dogs and Cats"
   ]
  },
  {
   "cell_type": "markdown",
   "metadata": {},
   "source": [
    "#### DOGS"
   ]
  },
  {
   "cell_type": "code",
   "execution_count": 228,
   "metadata": {},
   "outputs": [],
   "source": [
    "dogs_outcomes = outcomes[outcomes.AnimalType == 'Dog']"
   ]
  },
  {
   "cell_type": "code",
   "execution_count": 229,
   "metadata": {},
   "outputs": [],
   "source": [
    "# pd.crosstab(dogs_outcomes.ColorCoat, dogs_outcomes.OutcomeType, margins=True)"
   ]
  },
  {
   "cell_type": "code",
   "execution_count": 230,
   "metadata": {},
   "outputs": [],
   "source": [
    "dogs_outcome_coat_crosstab = pd.crosstab(dogs_outcomes.ColorCoat, dogs_outcomes.OutcomeType, margins=True, normalize='index')\n",
    "# dogs_outcome_coat_crosstab"
   ]
  },
  {
   "cell_type": "code",
   "execution_count": 231,
   "metadata": {},
   "outputs": [],
   "source": [
    "# sns.heatmap(dogs_outcome_coat_crosstab, linewidths=0.5, annot=True, center=1)"
   ]
  },
  {
   "cell_type": "markdown",
   "metadata": {},
   "source": [
    "### Insights regarding Dogs color coats (ignoring the very few samples of Tabby/Smoke/Tiger dogs):\n",
    "- As a Brindle dog, your chances to Die or to be Euthanaised are significantly rising\n",
    "- As a dog with a Tick coat, your chance of being Adopted are rising. Your chances to be Euthanaised are falling\n",
    "- As a Tricolor dog, your chances to be Euthanaised are falling"
   ]
  },
  {
   "cell_type": "markdown",
   "metadata": {},
   "source": [
    "#### CATS"
   ]
  },
  {
   "cell_type": "code",
   "execution_count": 232,
   "metadata": {},
   "outputs": [],
   "source": [
    "cats_outcomes = outcomes[outcomes.AnimalType == 'Cat']"
   ]
  },
  {
   "cell_type": "code",
   "execution_count": 233,
   "metadata": {},
   "outputs": [],
   "source": [
    "# pd.crosstab(cats_outcomes.ColorCoat, cats_outcomes.OutcomeType, margins=True)"
   ]
  },
  {
   "cell_type": "code",
   "execution_count": 234,
   "metadata": {},
   "outputs": [],
   "source": [
    "cats_outcome_coat_crosstab = pd.crosstab(cats_outcomes.ColorCoat, cats_outcomes.OutcomeType, margins=True, normalize='index')\n",
    "# cats_outcome_coat_crosstab"
   ]
  },
  {
   "cell_type": "code",
   "execution_count": 235,
   "metadata": {},
   "outputs": [],
   "source": [
    "# sns.heatmap(cats_outcome_coat_crosstab, linewidths=0.5, annot=True, center=1)"
   ]
  },
  {
   "cell_type": "markdown",
   "metadata": {},
   "source": [
    "### Insights regarding Cats color coats (ignoring the very few samples of Tricolor/Smoke/Tiger dogs):\n",
    "- As a Calico/Bicolor cat, your chances to Die are falling\n",
    "- As a Tortie/Torbie cat, your chances to Die or to be Euthanaised are falling"
   ]
  },
  {
   "cell_type": "code",
   "execution_count": 236,
   "metadata": {},
   "outputs": [],
   "source": [
    "# 3.7.b Creating a new 'ColorGroup' column, whose values would reflect the colors' \"families\", as follows:\n",
    "\n",
    "color_groups_dict = {\n",
    "    'Black'   : ['Black'],\n",
    "    'White'   : ['White'],\n",
    "    'Brown'   : ['Brown', 'Chocolate', 'Liver', 'Agouti', 'Tortie', 'Torbie', 'Seal'],\n",
    "    'Red'     : ['Red', 'Orange', 'Ruddy', 'Sable', 'Pink'],\n",
    "    'Gray'    : ['Gray', 'Silver', 'Silver Lynx'],\n",
    "    'Yellow'  : ['Yellow', 'Apricot', 'Tan', 'Gold', 'Fawn', 'Buff', 'Lynx', 'Flame'],\n",
    "    'Cream'   : ['Cream'],\n",
    "    'Blue'    : ['Blue', 'Lilac', 'Blue Cream'],\n",
    "    'Tricolor': ['Tricolor', 'Calico']}"
   ]
  },
  {
   "cell_type": "markdown",
   "metadata": {},
   "source": [
    "To the above items, I'll now add 'Black/White' and 10 most popular \"Bicolor\" combinations (as created earlier)"
   ]
  },
  {
   "cell_type": "code",
   "execution_count": 237,
   "metadata": {},
   "outputs": [],
   "source": [
    "for bicolor in list(outcomes.Color[outcomes.ColorCoat == 'Bicolor'].value_counts().head(10).index) + ['Black/White']:\n",
    "    color_groups_dict[bicolor] = [bicolor]"
   ]
  },
  {
   "cell_type": "code",
   "execution_count": 238,
   "metadata": {},
   "outputs": [],
   "source": [
    "def remove_coat(color):\n",
    "    '''remove \"coat\" from color, if exists'''\n",
    "    for coat in coats:                \n",
    "        if coat in color:                                      # remove coat from color, unless color is a coat by itself\n",
    "            color = color.replace(' ' + coat, '') if coat != color else color\n",
    "    return color\n",
    "\n",
    "def set_color_group(color):\n",
    "    '''In: color, Out: color-group'''\n",
    "    try:\n",
    "        first_color, second_color = color.split('/')\n",
    "        first_color = remove_coat(first_color)\n",
    "        second_color = remove_coat(second_color)\n",
    "        for group in color_groups_dict:\n",
    "            if first_color + '/' + second_color == group:         # first, look for the exact Bi-color group\n",
    "                return group\n",
    "        for group in color_groups_dict:\n",
    "            if first_color in color_groups_dict[group]:           # if not found, look for the prime color's group\n",
    "                return group\n",
    "    except:\n",
    "        color = remove_coat(color)\n",
    "        for group in color_groups_dict:\n",
    "            if color in color_groups_dict[group]:\n",
    "                return group\n",
    "    return 'Other'\n",
    "\n",
    "outcomes['ColorGroup'] = outcomes['Color'].apply(set_color_group)"
   ]
  },
  {
   "cell_type": "code",
   "execution_count": 239,
   "metadata": {},
   "outputs": [],
   "source": [
    "# outcomes['ColorGroup'].value_counts()"
   ]
  },
  {
   "cell_type": "code",
   "execution_count": 240,
   "metadata": {},
   "outputs": [],
   "source": [
    "# pd.crosstab(outcomes.ColorGroup, outcomes.OutcomeType, margins=True)"
   ]
  },
  {
   "cell_type": "markdown",
   "metadata": {},
   "source": [
    "Separating between Dogs and Cats"
   ]
  },
  {
   "cell_type": "markdown",
   "metadata": {},
   "source": [
    "#### DOGS"
   ]
  },
  {
   "cell_type": "code",
   "execution_count": 241,
   "metadata": {},
   "outputs": [],
   "source": [
    "dogs_outcomes = outcomes[outcomes.AnimalType == 'Dog']"
   ]
  },
  {
   "cell_type": "code",
   "execution_count": 242,
   "metadata": {},
   "outputs": [],
   "source": [
    "# pd.crosstab(dogs_outcomes.ColorGroup, dogs_outcomes.OutcomeType, margins=True)"
   ]
  },
  {
   "cell_type": "code",
   "execution_count": 243,
   "metadata": {},
   "outputs": [],
   "source": [
    "dogs_outcome_group_crosstab = pd.crosstab(dogs_outcomes.ColorGroup, dogs_outcomes.OutcomeType, margins=True, normalize='index')\n",
    "# dogs_outcome_group_crosstab"
   ]
  },
  {
   "cell_type": "code",
   "execution_count": 244,
   "metadata": {},
   "outputs": [],
   "source": [
    "# sns.heatmap(dogs_outcome_group_crosstab, linewidths=0.5, annot=True, center=0.5)"
   ]
  },
  {
   "cell_type": "markdown",
   "metadata": {},
   "source": [
    "### Insights regarding Dogs color groups:\n",
    "- As a Gray dog, your chances to be Adopted or Euthanaised are falling, while your chances to Die or to be RTO are rising\n",
    "- As a Blue/White dog, your chances to be Euthanaised are significantly rising"
   ]
  },
  {
   "cell_type": "markdown",
   "metadata": {},
   "source": [
    "#### CATS"
   ]
  },
  {
   "cell_type": "code",
   "execution_count": 245,
   "metadata": {},
   "outputs": [],
   "source": [
    "cats_outcomes = outcomes[outcomes.AnimalType == 'Cat']"
   ]
  },
  {
   "cell_type": "code",
   "execution_count": 246,
   "metadata": {},
   "outputs": [],
   "source": [
    "# pd.crosstab(cats_outcomes.ColorGroup, cats_outcomes.OutcomeType, margins=True)"
   ]
  },
  {
   "cell_type": "code",
   "execution_count": 247,
   "metadata": {},
   "outputs": [],
   "source": [
    "cats_outcome_group_crosstab = pd.crosstab(cats_outcomes.ColorGroup, cats_outcomes.OutcomeType, margins=True, normalize='index')\n",
    "# cats_outcome_group_crosstab"
   ]
  },
  {
   "cell_type": "code",
   "execution_count": 248,
   "metadata": {},
   "outputs": [],
   "source": [
    "# sns.heatmap(cats_outcome_group_crosstab, linewidths=0.5, annot=True, center=1)"
   ]
  },
  {
   "cell_type": "markdown",
   "metadata": {},
   "source": [
    "### Insights regarding Cats color coats (ignoring the very few samples of Black/Brown and Brown/Black cats):\n",
    "- As a Gray cat, your chances to be Euthanaised are significantly rising\n",
    "- As a Yellow cat, your chances of being Adopted are rising. Your chances to be Transferred are rising"
   ]
  },
  {
   "cell_type": "markdown",
   "metadata": {},
   "source": [
    "## 4. Summary:"
   ]
  },
  {
   "cell_type": "markdown",
   "metadata": {},
   "source": [
    "### 4.a Summary of the features added to the given data structure"
   ]
  },
  {
   "cell_type": "markdown",
   "metadata": {},
   "source": [
    "- **Named:** 1 if the pet has a name, 0 if not\n",
    "- **DayOfWeek:** DOW (Sun-Sat) of outcome\n",
    "- **Quarter:** Quarter (1-4) of outcome\n",
    "- **Holiday:** A holiday (if any) that occurs 0-5 days after an outcome\n",
    "- **Sex:** The pet's gender (Male/Female)\n",
    "- **NeuterStatus:** Intact / N/S (Neutered/Spayed) / Unknown\n",
    "- **LifeStage:** Based on the pet's age: neonatal (birth-4 weeks), puppy/kitten (1-6 months), junior (7 months-2 years),        prime (3-6 years), mature (7-10 years), senior (11-14 years), geriatric (15+ years)\n",
    "- **BreedPurity:** Based on the pet's breed: Mix/Crossbreeds/Purebred \n",
    "- **MainBreed:** The \"prime\" breed of the pet\n",
    "- **DogFamily:** Relevant for dogs only. Based on the dog's breed - Working/Hound/Herding/Terrier/Sporting/Toy/Companion/Pit Bull\n",
    "- **dogFriendly:** Relevant for dogs only. Based on the dog's breed. From 1 to 5    \n",
    "- **easyToGroom:** Relevant for dogs only. Based on the dog's breed. From 1 to 5\n",
    "- **easyToTrain:** Relevant for dogs only. Based on the dog's breed. From 1 to 5  \n",
    "- **goodHealth:** Relevant for dogs only. Based on the dog's breed. From 1 to 5\n",
    "- **highEnergy:** Relevant for dogs only. Based on the dog's breed. From 1 to 5\n",
    "- **intelligence:** Relevant for dogs only. Based on the dog's breed. From 1 to 5\n",
    "- **kidFriendly:** Relevant for dogs only. Based on the dog's breed. From 1 to 5\n",
    "- **lowBarking:** Relevant for dogs only. Based on the dog's breed. From 1 to 5\n",
    "- **lowShedding:** Relevant for dogs only. Based on the dog's breed. From 1 to 5\n",
    "- **dogSize:** Relevant for dogs only. Based on the dog's breed. From 1 to 5\n",
    "- **toleratesCold:** Relevant for dogs only. Based on the dog's breed. From 1 to 5\n",
    "- **toleratesHot:** Relevant for dogs only. Based on the dog's breed. From 1 to 5\n",
    "- **ColorCoat:** Based on the pet's color: Augoti/Brindle/Calico/Merle/Point/Smoke/Tabby/Tick/Tiger/Torbie/Tortie/Tricolor\n",
    "- **ColorGroup:** Based on the pet's color: Black/White/Brown/Red/Gray/Yellow/Cream/Blue/Tricolor and 11 most popular \"Bicolor\"s"
   ]
  },
  {
   "cell_type": "markdown",
   "metadata": {},
   "source": [
    "### 4.b Summary of insights based on given and collected data:\n",
    "\n",
    "- According to the description of the case in the Kaggle web page, the outcome of more than 35% of pets arriving to shelters in the US every year is death (2.7 milion out of 7.6 million). However, strangely enough, according to the dataset of intake information received from the AAC (Austin Animal Center), the percent of dead and euthanized dogs and cats (along 2.5 years) is only 6.5% (5.8% Euthanasia + 0.7% Died ,752 out of 26,729 ). Trying to explain the above finding, I'd like to suggest that the final outcome\" of many transferred pets might be \"not as good as expected\".\n",
    "\n",
    "\n",
    "- The percentage of dogs being adopted is a bit higher than cats\n",
    "- The percentage of RTO dogs is *much* higher than cats\n",
    "- The percentage of cats being Euthanaised, Transferred or Died is higher than dogs\n",
    "\n",
    "\n",
    "- Almost 85% of adopted animals, are named\n",
    "- Almost 97% of animals which are Returned To their Owners (RTO), are named\n",
    "- Almost 70% of died animals, are un-named\n",
    "- un-named animals tend to be euthanised and transferred more than named animals\n",
    "- 47% of named animals are adopted, weheras the rate of total adoptions is only 40%\n",
    "- 24% of named animals are RTO, weheras the rate of total RTO is only 18%\n",
    "- Likewize, the percentages of named animals which are Died/Euthanaised/Transferred are lower than total percentages\n",
    "\n",
    "\n",
    "- Not surprisingly, it seems that most adoptions take place during the weekends. Also, it seems that animals are euthanaised\n",
    "  mostly on Mondays, supposedly after they had not been adopted during the passed weekend.\n",
    "- As I mentioned above, this feature will not contribute for predicting the next outcome, however it might suggests that the\n",
    "  shelter may put some extra effort during weekends, as people tend to adopt the animals on Sat and Sun.\n",
    "\n",
    "\n",
    "- It seems that more activites take place during Q4, and less during Q1.\n",
    "\n",
    "\n",
    "- About 20% of all adoptions take place 5 days or less before a holiday (mostly before Christmas)\n",
    "\n",
    "\n",
    "- It seems that if an animal is suffering, aggressive, bad-behaving, in Rabies Risk or has a medical problem - it will be\n",
    "  euthanaized.\n",
    "  \n",
    "  \n",
    "- Main subtypes of Transfer are: 'Partner' and 'SCRP':\n",
    "    - Partner: is probably another shelter for pets\n",
    "    - SCRP: I assume that it means: \"Street Cats Rescue Program\"\n",
    "\n",
    "- Amazingly, NONE of the animals that their SexuponOutcome is \"Unknown\" were adopted! Only few of them were RTO.\n",
    "\n",
    "\n",
    "- 97% of adopted pets were spayed/neutered\n",
    "- 83% of RTO pets were spayed/neutered\n",
    "- 69% of Died pets and 56% of Euthanaised pets were Intact\n",
    "\n",
    "\n",
    "- 77% (56 + 21) of N/S pets ended well (either adopted or returned to their owners)\n",
    "- 69% of Intact pets were transferred\n",
    "- 87% of pets whose neutered/spayed status was not clear, were transferred. None of them were adopted\n",
    "\n",
    "\n",
    "- It seems that adoption is not related to the sex of the pet\n",
    "- Males Die and Euthanaised more than females\n",
    "- Males RTO more than females\n",
    "\n",
    "\n",
    "- Adoption:\n",
    "    - Pets are not adopted until they're at least 1 month old. \n",
    "    - Pets are almost not adopted at the Mature stage or older\n",
    "    - Pets are mostly adopted when they're at the Puppy/Kitten stage. After that - as Juniors\n",
    "- RTO:\n",
    "    - Pets are returned to their owners mostly as Junior or Prime\n",
    "- Die:\n",
    "    - Pets mostly Die in the Neonatal and Puppy/Kitten stages. \n",
    "- Euthanasia:\n",
    "    - Pets mostly Eunathaised in the Junior and Prime stages\n",
    "\n",
    "- Neonatal:\n",
    "    - Pets are not adopted during their Neonatal period (as seen earlier) \n",
    "    - Being in the Neonatal life stage, there's almost 93% chance to be trasferred\n",
    "    - Chances to Die are high\n",
    "- Puppy/Kitten:\n",
    "    - As a Puppy/Kitten, there's 61% chance to be Adopted\n",
    "    - Chances to Die are also high\n",
    "- Junior:\n",
    "    - As a Junior, there's almost 40% chance to be Adopted; 34% chance to be transferred\n",
    "- Mature:\n",
    "    - As a Mature pet, there's 38% chance to be RTO\n",
    "- Senior:\n",
    "    - As a Senior, there's 45% chance to be RTO\n",
    "- Geriatric:\n",
    "    - As a Geriatric pet, there's 52% chance to be RTO, 24% to be Euthanaised and only 11% chance to be adopted\n",
    "\n",
    "\n",
    "- While Junior dogs' chances to be Adopted are rising, Junior cats' chances are falling\n",
    "- Senior dogs' chances to be Adopted are much lower than Senior cats'\n",
    "- Senior and Geriatric cats' chances to be Euthaaised are higher than Senior and Geriatric dogs'\n",
    "- Junior cats' chances to be Transferred are higher than Junior dogs'\n",
    "\n",
    "\n",
    "- As a Crossbreeds dog, your chances of being Adopted are rising, and your chances of being RTO are falling\n",
    "- As a Purebed dog, your chances of being Adopted are falling, and your chances of being RTO are rising (which is not\n",
    "  surprising, as it might be an expensive or rare dog, whom the owner would try hard to find)    \n",
    "\n",
    "\n",
    "- As a Crossbreeds cat, your chances of being Adopted are rising, and your chances of being RTO are falling\n",
    "- As a Purebed cat, your chances of being Adopted are falling, and your chances of being RTO are rising (same as dogs). Your\n",
    "  chances of being Transferred are a bit rising\n",
    "- Note: Percentage of 'Mix' cats is very high (97.5%), so the contribution of this feature to the Model is doubtful\n",
    "\n",
    "\n",
    "- As a Herding/Hound/Terrier/Sporting/Toy dog, your chances of being Adopted are rising\n",
    "- As a Companion/Pit Bull dog, your chances of being Adopted are significantly falling\n",
    "- As a Pit Bull, your chances of being Euthanaised are significantly rising\n",
    "- As a Hound dog, your chances of being Euthanaised are significantly falling\n",
    "- As a Toy/Companion dog, your chances to Die are rising\n",
    "- As a Companion/Working/Pit Bull dog, your chances of being RTO are rising. These chances are falling for Herding/Hound dogs\n",
    "\n",
    "\n",
    "- As a very big dog (size=5), your chances to Die or to be Transferred are rising. Your chances of being Adopted are falling\n",
    "- As a  dog of size = 2, your chances of being RTO are significantly rising. Your chances of being Adopted are falling\n",
    "- As a very small dog (size=1), your chances to be Transferred are rising. Your chances of being RTO are falling\n",
    "\n",
    "\n",
    "- As an unfriendly dog (to other dogs), your chances to Die or to be Euthanaised are significally rising. Your chances of\n",
    "  being Adopted are falling\n",
    "\n",
    "\n",
    "- As an unfriendly dog (to kids), your chances to Die or to be Euthanaised are significally rising. Your chances of\n",
    "  being Adopted are falling\n",
    "\n",
    "\n",
    "- As a dog with low levels of ease-of-grooming, your chances to be Adopted are falling, while your chances of being \n",
    "  Euthanaised or Transferred are rising\n",
    "\n",
    "\n",
    "- As a dog with level of shedding = 2, your chances to be Adopted are falling, while your chances of being \n",
    "  Euthanaised or RTO are rising (can't find an explanation for this insight...)\n",
    "\n",
    "\n",
    "- As a dog with level of easeToTrain = 3, your chances to be Adopted are falling, while your chances of being \n",
    "  Transferred are rising (can't find an explanation for this insight...)\n",
    "\n",
    "\n",
    "- As a dog with low level of intelligence, your chances to be Adopted are significantly falling, while your chances of being \n",
    "  Euthanaised are significantly rising\n",
    "\n",
    "\n",
    "- As a low-energy dog, your chances of being Adopted are significantly falling, while your chances of being \n",
    "  Euthanaised/RTO/Transferred are rising\n",
    "\n",
    "\n",
    "- No specific insights regarding Dogs' level of Barking.\n",
    "\n",
    "\n",
    "- As a dog with very low level of general health, your chances of being Adopted are falling, while your chances of being \n",
    "  RTO are rising\n",
    "- As a dog with the highest level of general health, your chances of being Adopted are rising\n",
    "\n",
    "\n",
    "- No specific insights regarding Dogs' Tolerance to Cold\n",
    "\n",
    "\n",
    "- As a dog with very low tolerance to heat, your chances of being Adopted are significantly falling. Your chances of being \n",
    "  Transferred are rising\n",
    "\n",
    "\n",
    "- As a Brindle dog, your chances to Die or to be Euthanaised are significantly rising\n",
    "- As a dog with a Tick coat, your chance of being Adopted are rising. Your chances to be Euthanaised are falling\n",
    "- As a Tricolor dog, your chances to be Euthanaised are falling\n",
    "\n",
    "\n",
    "- As a Calico/Bicolor cat, your chances to Die are falling\n",
    "- As a Tortie/Torbie cat, your chances to Die or to be Euthanaised are falling\n",
    "\n",
    "\n",
    "- As a Gray dog, your chances to be Adopted or Euthanaised are falling, while your chances to Die or to be RTO are rising\n",
    "- As a Blue/White dog, your chances to be Euthanaised are significantly rising\n",
    "\n",
    "\n",
    "- As a Gray cat, your chances to be Euthanaised are significantly rising\n",
    "- As a Yellow cat, your chances of being Adopted are rising. Your chances to be Transferred are rising"
   ]
  },
  {
   "cell_type": "markdown",
   "metadata": {},
   "source": [
    "### 4.c Plans for the next part of the project:\n",
    "    - I'll prepare the Dataframe to be used by various models:\n",
    "        - feature selection: I'll try to select the appropriate features (and drop the others), in order to improve \n",
    "          models' scores\n",
    "        - I'll transform some of the features into dummy variables, using DataFrame.get_dummies()\n",
    "        - Some of features I added, are related only for dogs. I'll have to deal with that (I prefer not to split the given\n",
    "          data into 2 separate dataframes (dogs/cats))\n",
    "    - As the given \"test\" dataset is not complete, I'll prepare the data for the Train/Test split\n",
    "    - I'll run several Models, with various hyper parameters, and compare between them while analysing the results"
   ]
  },
  {
   "cell_type": "code",
   "execution_count": 249,
   "metadata": {},
   "outputs": [],
   "source": [
    "# save outcomes DF for part2 of the project\n",
    "import pickle"
   ]
  },
  {
   "cell_type": "code",
   "execution_count": 250,
   "metadata": {},
   "outputs": [],
   "source": [
    "with open('part1outcomes', 'wb') as f:\n",
    "    pickle.dump(outcomes, f)"
   ]
  },
  {
   "cell_type": "code",
   "execution_count": null,
   "metadata": {},
   "outputs": [],
   "source": []
  }
 ],
 "metadata": {
  "kernelspec": {
   "display_name": "Python 3",
   "language": "python",
   "name": "python3"
  },
  "language_info": {
   "codemirror_mode": {
    "name": "ipython",
    "version": 3
   },
   "file_extension": ".py",
   "mimetype": "text/x-python",
   "name": "python",
   "nbconvert_exporter": "python",
   "pygments_lexer": "ipython3",
   "version": "3.6.5"
  }
 },
 "nbformat": 4,
 "nbformat_minor": 2
}
